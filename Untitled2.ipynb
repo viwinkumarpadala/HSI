{
  "cells": [
    {
      "cell_type": "code",
      "execution_count": 2,
      "metadata": {
        "colab": {
          "base_uri": "https://localhost:8080/",
          "height": 69
        },
        "id": "1WNABSKzEDNE",
        "outputId": "074f3999-3dd8-4e84-b437-edb1781e97de"
      },
      "outputs": [
        {
          "data": {
            "text/html": [
              "        <script type=\"text/javascript\">\n",
              "        window.PlotlyConfig = {MathJaxConfig: 'local'};\n",
              "        if (window.MathJax && window.MathJax.Hub && window.MathJax.Hub.Config) {window.MathJax.Hub.Config({SVG: {font: \"STIX-Web\"}});}\n",
              "        if (typeof require !== 'undefined') {\n",
              "        require.undef(\"plotly\");\n",
              "        requirejs.config({\n",
              "            paths: {\n",
              "                'plotly': ['https://cdn.plot.ly/plotly-2.20.0.min']\n",
              "            }\n",
              "        });\n",
              "        require(['plotly'], function(Plotly) {\n",
              "            window._Plotly = Plotly;\n",
              "        });\n",
              "        }\n",
              "        </script>\n",
              "        "
            ]
          },
          "metadata": {},
          "output_type": "display_data"
        }
      ],
      "source": [
        "import keras\n",
        "from keras.layers import Conv2D, Conv3D, Flatten, Dense, Reshape, BatchNormalization\n",
        "from keras.layers import Dropout, Input\n",
        "from keras.models import Model\n",
        "from keras.optimizers import Adam\n",
        "from keras.callbacks import ModelCheckpoint\n",
        "from keras.utils import np_utils\n",
        "\n",
        "from sklearn.decomposition import PCA\n",
        "from sklearn.model_selection import train_test_split\n",
        "from sklearn.metrics import confusion_matrix, accuracy_score, classification_report, cohen_kappa_score\n",
        "from scipy.io import loadmat \n",
        "\n",
        "from operator import truediv\n",
        "\n",
        "from plotly.offline import init_notebook_mode\n",
        "\n",
        "import numpy as np\n",
        "import matplotlib.pyplot as plt\n",
        "import scipy.io as sio\n",
        "import os\n",
        "\n",
        "import spectral\n",
        "\n",
        "init_notebook_mode(connected=True)\n",
        "%matplotlib inline"
      ]
    },
    {
      "cell_type": "code",
      "execution_count": 3,
      "metadata": {
        "id": "02nY1hpqGBnl"
      },
      "outputs": [],
      "source": [
        "## GLOBAL VARIABLES\n",
        "test_ratio = 0.7\n",
        "windowSize = 25"
      ]
    },
    {
      "cell_type": "code",
      "execution_count": 4,
      "metadata": {
        "id": "4y-oVx1GGE96"
      },
      "outputs": [],
      "source": [
        "def splitTrainTestSet(X, y, testRatio, randomState=345):\n",
        "    X_train, X_test, y_train, y_test = train_test_split(X, y, test_size=testRatio, random_state=randomState,\n",
        "                                                        stratify=y)\n",
        "    return X_train, X_test, y_train, y_test"
      ]
    },
    {
      "cell_type": "code",
      "execution_count": 5,
      "metadata": {
        "id": "0k4O19qfGak7"
      },
      "outputs": [],
      "source": [
        "def applyPCA(X, numComponents=75):\n",
        "    newX = np.reshape(X, (-1, X.shape[2]))\n",
        "    pca = PCA(n_components=numComponents, whiten=True)\n",
        "    newX = pca.fit_transform(newX)\n",
        "    newX = np.reshape(newX, (X.shape[0],X.shape[1], numComponents))\n",
        "    return newX, pca"
      ]
    },
    {
      "cell_type": "code",
      "execution_count": 6,
      "metadata": {
        "id": "jwfe4l_7GbWr"
      },
      "outputs": [],
      "source": [
        "def read_HSI():\n",
        "  X = loadmat('Indian_pines_corrected.mat')['indian_pines_corrected']\n",
        "  y = loadmat('Indian_pines_gt.mat')['indian_pines_gt']\n",
        "  print(f\"X shape: {X.shape}\\ny shape: {y.shape}\")\n",
        "  return X, y\n"
      ]
    },
    {
      "cell_type": "code",
      "execution_count": 7,
      "metadata": {
        "id": "OKN3MTKtHQUP"
      },
      "outputs": [],
      "source": [
        "def padWithZeros(X, margin=2):\n",
        "    newX = np.zeros((X.shape[0] + 2 * margin, X.shape[1] + 2* margin, X.shape[2]))\n",
        "    x_offset = margin\n",
        "    y_offset = margin\n",
        "    newX[x_offset:X.shape[0] + x_offset, y_offset:X.shape[1] + y_offset, :] = X\n",
        "    return newX"
      ]
    },
    {
      "cell_type": "code",
      "execution_count": 8,
      "metadata": {
        "id": "RbPNkw9ZHV3Z"
      },
      "outputs": [],
      "source": [
        "def createImageCubes(X, y, windowSize=5, removeZeroLabels = True):\n",
        "    margin = int((windowSize - 1) / 2)\n",
        "    zeroPaddedX = padWithZeros(X, margin=margin)\n",
        "    # split patches\n",
        "    patchesData = np.zeros((X.shape[0] * X.shape[1], windowSize, windowSize, X.shape[2]))\n",
        "    patchesLabels = np.zeros((X.shape[0] * X.shape[1]))\n",
        "    patchIndex = 0\n",
        "    for r in range(margin, zeroPaddedX.shape[0] - margin):\n",
        "        for c in range(margin, zeroPaddedX.shape[1] - margin):\n",
        "            patch = zeroPaddedX[r - margin:r + margin + 1, c - margin:c + margin + 1]   \n",
        "            patchesData[patchIndex, :, :, :] = patch\n",
        "            patchesLabels[patchIndex] = y[r-margin, c-margin]\n",
        "            patchIndex = patchIndex + 1\n",
        "    if removeZeroLabels:\n",
        "        patchesData = patchesData[patchesLabels>0,:,:,:]\n",
        "        patchesLabels = patchesLabels[patchesLabels>0]\n",
        "        patchesLabels -= 1\n",
        "    return patchesData, patchesLabels"
      ]
    },
    {
      "cell_type": "code",
      "execution_count": 9,
      "metadata": {
        "colab": {
          "base_uri": "https://localhost:8080/",
          "height": 554
        },
        "id": "68s3UuTWHd2y",
        "outputId": "50ebf44d-fd9d-461d-c356-b2e741bff741"
      },
      "outputs": [
        {
          "name": "stdout",
          "output_type": "stream",
          "text": [
            "X shape: (145, 145, 200)\n",
            "y shape: (145, 145)\n"
          ]
        }
      ],
      "source": [
        "X, y = read_HSI()\n"
      ]
    },
    {
      "cell_type": "code",
      "execution_count": 10,
      "metadata": {
        "id": "H2HRz5c8vLo-"
      },
      "outputs": [],
      "source": [
        "K=30"
      ]
    },
    {
      "cell_type": "code",
      "execution_count": 11,
      "metadata": {
        "id": "KkKACt_ouy5t"
      },
      "outputs": [
        {
          "data": {
            "text/plain": [
              "(145, 145, 30)"
            ]
          },
          "execution_count": 11,
          "metadata": {},
          "output_type": "execute_result"
        }
      ],
      "source": [
        "X,pca = applyPCA(X,numComponents=K)\n",
        "\n",
        "X.shape"
      ]
    },
    {
      "cell_type": "code",
      "execution_count": 12,
      "metadata": {
        "id": "PLBQ976PvP-z"
      },
      "outputs": [
        {
          "data": {
            "text/plain": [
              "((10249, 25, 25, 30), (10249,))"
            ]
          },
          "execution_count": 12,
          "metadata": {},
          "output_type": "execute_result"
        }
      ],
      "source": [
        "X, y = createImageCubes(X, y, windowSize=windowSize)\n",
        "\n",
        "X.shape, y.shape"
      ]
    },
    {
      "cell_type": "code",
      "execution_count": 13,
      "metadata": {
        "id": "l8xUTPYHvS9k"
      },
      "outputs": [
        {
          "name": "stdout",
          "output_type": "stream",
          "text": [
            "(3074, 25, 25, 30)\n",
            "(7175, 25, 25, 30)\n",
            "(3074,)\n",
            "(7175,)\n"
          ]
        }
      ],
      "source": [
        "Xtrain, Xtest, ytrain, ytest = splitTrainTestSet(X, y, test_ratio)\n",
        "print(Xtrain.shape)\n",
        "print(Xtest.shape)\n",
        "print(ytrain.shape)\n",
        "print(ytest.shape)"
      ]
    },
    {
      "cell_type": "code",
      "execution_count": 14,
      "metadata": {
        "id": "iz0xY-UWvbz0"
      },
      "outputs": [
        {
          "data": {
            "text/plain": [
              "(3074, 25, 25, 30, 1)"
            ]
          },
          "execution_count": 14,
          "metadata": {},
          "output_type": "execute_result"
        }
      ],
      "source": [
        "Xtrain = Xtrain.reshape(-1, windowSize, windowSize, K, 1)\n",
        "Xtrain.shape"
      ]
    },
    {
      "cell_type": "code",
      "execution_count": 15,
      "metadata": {
        "id": "J1GJ3mKevokx"
      },
      "outputs": [
        {
          "data": {
            "text/plain": [
              "(3074, 16)"
            ]
          },
          "execution_count": 15,
          "metadata": {},
          "output_type": "execute_result"
        }
      ],
      "source": [
        "ytrain = np_utils.to_categorical(ytrain)\n",
        "ytrain.shape"
      ]
    },
    {
      "cell_type": "code",
      "execution_count": 16,
      "metadata": {
        "id": "kB5XcOVivrrp"
      },
      "outputs": [],
      "source": [
        "S = windowSize\n",
        "L = K\n",
        "output_units =16"
      ]
    },
    {
      "cell_type": "code",
      "execution_count": 17,
      "metadata": {
        "id": "SZfYZtQ9vu9b"
      },
      "outputs": [
        {
          "name": "stdout",
          "output_type": "stream",
          "text": [
            "(None, 19, 19, 18, 32)\n"
          ]
        }
      ],
      "source": [
        "## input layer\n",
        "input_layer = Input((S, S, L, 1))\n",
        "\n",
        "## convolutional layers\n",
        "conv_layer1 = Conv3D(filters=8, kernel_size=(3, 3, 7), activation='relu')(input_layer)\n",
        "conv_layer2 = Conv3D(filters=16, kernel_size=(3, 3, 5), activation='relu')(conv_layer1)\n",
        "conv_layer3 = Conv3D(filters=32, kernel_size=(3, 3, 3), activation='relu')(conv_layer2)\n",
        "print(conv_layer3.shape)\n",
        "conv3d_shape = conv_layer3.shape\n",
        "conv_layer3 = Reshape((conv3d_shape[1], conv3d_shape[2], conv3d_shape[3]*conv3d_shape[4]))(conv_layer3)\n",
        "conv_layer4 = Conv2D(filters=64, kernel_size=(3,3), activation='relu')(conv_layer3)\n",
        "\n",
        "flatten_layer = Flatten()(conv_layer4)\n",
        "\n",
        "## fully connected layers\n",
        "dense_layer1 = Dense(units=256, activation='relu')(flatten_layer)\n",
        "dense_layer1 = Dropout(0.4)(dense_layer1)\n",
        "dense_layer2 = Dense(units=128, activation='relu')(dense_layer1)\n",
        "dense_layer2 = Dropout(0.4)(dense_layer2)\n",
        "output_layer = Dense(units=output_units, activation='softmax')(dense_layer2)"
      ]
    },
    {
      "cell_type": "code",
      "execution_count": 18,
      "metadata": {
        "id": "wMbP8TSrvxLU"
      },
      "outputs": [],
      "source": [
        "# define the model with input layer and output layer\n",
        "model = Model(inputs=input_layer, outputs=output_layer)"
      ]
    },
    {
      "cell_type": "code",
      "execution_count": 19,
      "metadata": {
        "id": "w83Zq-J_v48b"
      },
      "outputs": [
        {
          "name": "stdout",
          "output_type": "stream",
          "text": [
            "Model: \"model\"\n",
            "_________________________________________________________________\n",
            " Layer (type)                Output Shape              Param #   \n",
            "=================================================================\n",
            " input_1 (InputLayer)        [(None, 25, 25, 30, 1)]   0         \n",
            "                                                                 \n",
            " conv3d (Conv3D)             (None, 23, 23, 24, 8)     512       \n",
            "                                                                 \n",
            " conv3d_1 (Conv3D)           (None, 21, 21, 20, 16)    5776      \n",
            "                                                                 \n",
            " conv3d_2 (Conv3D)           (None, 19, 19, 18, 32)    13856     \n",
            "                                                                 \n",
            " reshape (Reshape)           (None, 19, 19, 576)       0         \n",
            "                                                                 \n",
            " conv2d (Conv2D)             (None, 17, 17, 64)        331840    \n",
            "                                                                 \n",
            " flatten (Flatten)           (None, 18496)             0         \n",
            "                                                                 \n",
            " dense (Dense)               (None, 256)               4735232   \n",
            "                                                                 \n",
            " dropout (Dropout)           (None, 256)               0         \n",
            "                                                                 \n",
            " dense_1 (Dense)             (None, 128)               32896     \n",
            "                                                                 \n",
            " dropout_1 (Dropout)         (None, 128)               0         \n",
            "                                                                 \n",
            " dense_2 (Dense)             (None, 16)                2064      \n",
            "                                                                 \n",
            "=================================================================\n",
            "Total params: 5,122,176\n",
            "Trainable params: 5,122,176\n",
            "Non-trainable params: 0\n",
            "_________________________________________________________________\n"
          ]
        }
      ],
      "source": [
        "model.summary()"
      ]
    },
    {
      "cell_type": "code",
      "execution_count": 20,
      "metadata": {
        "id": "-WC9QGQLv5wK"
      },
      "outputs": [
        {
          "name": "stderr",
          "output_type": "stream",
          "text": [
            "c:\\Users\\VIWIN\\AppData\\Local\\Programs\\Python\\Python310\\lib\\site-packages\\keras\\optimizers\\optimizer_v2\\adam.py:117: UserWarning:\n",
            "\n",
            "The `lr` argument is deprecated, use `learning_rate` instead.\n",
            "\n"
          ]
        }
      ],
      "source": [
        "# compiling the model\n",
        "adam = Adam(lr=0.001, decay=1e-06)\n",
        "model.compile(loss='categorical_crossentropy', optimizer=adam, metrics=['accuracy'])"
      ]
    },
    {
      "cell_type": "code",
      "execution_count": 21,
      "metadata": {
        "id": "YRgw0sn2v_Tc"
      },
      "outputs": [],
      "source": [
        "# checkpoint\n",
        "filepath = \"best-model.hdf5\"\n",
        "checkpoint = ModelCheckpoint(filepath, monitor='acc', verbose=1, save_best_only=True, mode='max')\n",
        "callbacks_list = [checkpoint]"
      ]
    },
    {
      "cell_type": "code",
      "execution_count": 22,
      "metadata": {
        "id": "3AM3sOUEwBfO"
      },
      "outputs": [
        {
          "name": "stdout",
          "output_type": "stream",
          "text": [
            "Epoch 1/100\n",
            "13/13 [==============================] - ETA: 0s - loss: 2.7669 - accuracy: 0.1376 WARNING:tensorflow:Can save best model only with acc available, skipping.\n",
            "13/13 [==============================] - 213s 14s/step - loss: 2.7669 - accuracy: 0.1376\n",
            "Epoch 2/100\n",
            "13/13 [==============================] - ETA: 0s - loss: 2.5446 - accuracy: 0.1851 WARNING:tensorflow:Can save best model only with acc available, skipping.\n",
            "13/13 [==============================] - 198s 15s/step - loss: 2.5446 - accuracy: 0.1851\n",
            "Epoch 3/100\n",
            "13/13 [==============================] - ETA: 0s - loss: 2.4692 - accuracy: 0.2036 WARNING:tensorflow:Can save best model only with acc available, skipping.\n",
            "13/13 [==============================] - 272s 21s/step - loss: 2.4692 - accuracy: 0.2036\n",
            "Epoch 4/100\n",
            "13/13 [==============================] - ETA: 0s - loss: 2.3485 - accuracy: 0.2167 WARNING:tensorflow:Can save best model only with acc available, skipping.\n",
            "13/13 [==============================] - 230s 17s/step - loss: 2.3485 - accuracy: 0.2167\n",
            "Epoch 5/100\n",
            "13/13 [==============================] - ETA: 0s - loss: 2.1032 - accuracy: 0.2746 WARNING:tensorflow:Can save best model only with acc available, skipping.\n",
            "13/13 [==============================] - 215s 16s/step - loss: 2.1032 - accuracy: 0.2746\n",
            "Epoch 6/100\n",
            "13/13 [==============================] - ETA: 0s - loss: 1.8915 - accuracy: 0.3334 WARNING:tensorflow:Can save best model only with acc available, skipping.\n",
            "13/13 [==============================] - 261s 20s/step - loss: 1.8915 - accuracy: 0.3334\n",
            "Epoch 7/100\n",
            "13/13 [==============================] - ETA: 0s - loss: 1.6143 - accuracy: 0.4444 WARNING:tensorflow:Can save best model only with acc available, skipping.\n",
            "13/13 [==============================] - 231s 18s/step - loss: 1.6143 - accuracy: 0.4444\n",
            "Epoch 8/100\n",
            "13/13 [==============================] - ETA: 0s - loss: 1.2780 - accuracy: 0.5706 WARNING:tensorflow:Can save best model only with acc available, skipping.\n",
            "13/13 [==============================] - 229s 18s/step - loss: 1.2780 - accuracy: 0.5706\n",
            "Epoch 9/100\n",
            "13/13 [==============================] - ETA: 0s - loss: 1.0676 - accuracy: 0.6581 WARNING:tensorflow:Can save best model only with acc available, skipping.\n",
            "13/13 [==============================] - 214s 16s/step - loss: 1.0676 - accuracy: 0.6581\n",
            "Epoch 10/100\n",
            "13/13 [==============================] - ETA: 0s - loss: 0.8629 - accuracy: 0.7209 WARNING:tensorflow:Can save best model only with acc available, skipping.\n",
            "13/13 [==============================] - 223s 17s/step - loss: 0.8629 - accuracy: 0.7209\n",
            "Epoch 11/100\n",
            "13/13 [==============================] - ETA: 0s - loss: 0.6959 - accuracy: 0.7798 WARNING:tensorflow:Can save best model only with acc available, skipping.\n",
            "13/13 [==============================] - 237s 18s/step - loss: 0.6959 - accuracy: 0.7798\n",
            "Epoch 12/100\n",
            "13/13 [==============================] - ETA: 0s - loss: 0.5663 - accuracy: 0.8084 WARNING:tensorflow:Can save best model only with acc available, skipping.\n",
            "13/13 [==============================] - 233s 18s/step - loss: 0.5663 - accuracy: 0.8084\n",
            "Epoch 13/100\n",
            "13/13 [==============================] - ETA: 0s - loss: 0.4738 - accuracy: 0.8412 WARNING:tensorflow:Can save best model only with acc available, skipping.\n",
            "13/13 [==============================] - 199s 15s/step - loss: 0.4738 - accuracy: 0.8412\n",
            "Epoch 14/100\n",
            "13/13 [==============================] - ETA: 0s - loss: 0.3973 - accuracy: 0.8660 WARNING:tensorflow:Can save best model only with acc available, skipping.\n",
            "13/13 [==============================] - 200s 15s/step - loss: 0.3973 - accuracy: 0.8660\n",
            "Epoch 15/100\n",
            "13/13 [==============================] - ETA: 0s - loss: 0.3791 - accuracy: 0.8751 WARNING:tensorflow:Can save best model only with acc available, skipping.\n",
            "13/13 [==============================] - 206s 16s/step - loss: 0.3791 - accuracy: 0.8751\n",
            "Epoch 16/100\n",
            "13/13 [==============================] - ETA: 0s - loss: 0.2936 - accuracy: 0.9063 WARNING:tensorflow:Can save best model only with acc available, skipping.\n",
            "13/13 [==============================] - 220s 17s/step - loss: 0.2936 - accuracy: 0.9063\n",
            "Epoch 17/100\n",
            "13/13 [==============================] - ETA: 0s - loss: 0.2076 - accuracy: 0.9340 WARNING:tensorflow:Can save best model only with acc available, skipping.\n",
            "13/13 [==============================] - 244s 19s/step - loss: 0.2076 - accuracy: 0.9340\n",
            "Epoch 18/100\n",
            "13/13 [==============================] - ETA: 0s - loss: 0.1515 - accuracy: 0.9499 WARNING:tensorflow:Can save best model only with acc available, skipping.\n",
            "13/13 [==============================] - 305s 24s/step - loss: 0.1515 - accuracy: 0.9499\n",
            "Epoch 19/100\n",
            "13/13 [==============================] - ETA: 0s - loss: 0.1216 - accuracy: 0.9610 WARNING:tensorflow:Can save best model only with acc available, skipping.\n",
            "13/13 [==============================] - 360s 28s/step - loss: 0.1216 - accuracy: 0.9610\n",
            "Epoch 20/100\n",
            "13/13 [==============================] - ETA: 0s - loss: 0.1074 - accuracy: 0.9675 WARNING:tensorflow:Can save best model only with acc available, skipping.\n",
            "13/13 [==============================] - 373s 28s/step - loss: 0.1074 - accuracy: 0.9675\n",
            "Epoch 21/100\n",
            "13/13 [==============================] - ETA: 0s - loss: 0.0940 - accuracy: 0.9697 WARNING:tensorflow:Can save best model only with acc available, skipping.\n",
            "13/13 [==============================] - 299s 23s/step - loss: 0.0940 - accuracy: 0.9697\n",
            "Epoch 22/100\n",
            "13/13 [==============================] - ETA: 0s - loss: 0.0778 - accuracy: 0.9756 WARNING:tensorflow:Can save best model only with acc available, skipping.\n",
            "13/13 [==============================] - 277s 21s/step - loss: 0.0778 - accuracy: 0.9756\n",
            "Epoch 23/100\n",
            "13/13 [==============================] - ETA: 0s - loss: 0.0666 - accuracy: 0.9798 WARNING:tensorflow:Can save best model only with acc available, skipping.\n",
            "13/13 [==============================] - 172s 13s/step - loss: 0.0666 - accuracy: 0.9798\n",
            "Epoch 24/100\n",
            "13/13 [==============================] - ETA: 0s - loss: 0.0693 - accuracy: 0.9782  WARNING:tensorflow:Can save best model only with acc available, skipping.\n",
            "13/13 [==============================] - 2478s 205s/step - loss: 0.0693 - accuracy: 0.9782\n",
            "Epoch 25/100\n",
            "13/13 [==============================] - ETA: 0s - loss: 0.0692 - accuracy: 0.9792 WARNING:tensorflow:Can save best model only with acc available, skipping.\n",
            "13/13 [==============================] - 165s 12s/step - loss: 0.0692 - accuracy: 0.9792\n",
            "Epoch 26/100\n",
            "13/13 [==============================] - ETA: 0s - loss: 0.0796 - accuracy: 0.9792 WARNING:tensorflow:Can save best model only with acc available, skipping.\n",
            "13/13 [==============================] - 156s 12s/step - loss: 0.0796 - accuracy: 0.9792\n",
            "Epoch 27/100\n",
            "13/13 [==============================] - ETA: 0s - loss: 0.0611 - accuracy: 0.9815 WARNING:tensorflow:Can save best model only with acc available, skipping.\n",
            "13/13 [==============================] - 203s 16s/step - loss: 0.0611 - accuracy: 0.9815\n",
            "Epoch 28/100\n",
            "13/13 [==============================] - ETA: 0s - loss: 0.0536 - accuracy: 0.9854 WARNING:tensorflow:Can save best model only with acc available, skipping.\n",
            "13/13 [==============================] - 138s 10s/step - loss: 0.0536 - accuracy: 0.9854\n",
            "Epoch 29/100\n",
            "13/13 [==============================] - ETA: 0s - loss: 0.0582 - accuracy: 0.9811 WARNING:tensorflow:Can save best model only with acc available, skipping.\n",
            "13/13 [==============================] - 165s 13s/step - loss: 0.0582 - accuracy: 0.9811\n",
            "Epoch 30/100\n",
            "13/13 [==============================] - ETA: 0s - loss: 0.1226 - accuracy: 0.9701 WARNING:tensorflow:Can save best model only with acc available, skipping.\n",
            "13/13 [==============================] - 160s 12s/step - loss: 0.1226 - accuracy: 0.9701\n",
            "Epoch 31/100\n",
            "13/13 [==============================] - ETA: 0s - loss: 0.0859 - accuracy: 0.9727 WARNING:tensorflow:Can save best model only with acc available, skipping.\n",
            "13/13 [==============================] - 217s 17s/step - loss: 0.0859 - accuracy: 0.9727\n",
            "Epoch 32/100\n",
            "13/13 [==============================] - ETA: 0s - loss: 0.0576 - accuracy: 0.9847 WARNING:tensorflow:Can save best model only with acc available, skipping.\n",
            "13/13 [==============================] - 235s 18s/step - loss: 0.0576 - accuracy: 0.9847\n",
            "Epoch 33/100\n",
            "13/13 [==============================] - ETA: 0s - loss: 0.0477 - accuracy: 0.9863 WARNING:tensorflow:Can save best model only with acc available, skipping.\n",
            "13/13 [==============================] - 231s 18s/step - loss: 0.0477 - accuracy: 0.9863\n",
            "Epoch 34/100\n",
            "13/13 [==============================] - ETA: 0s - loss: 0.0452 - accuracy: 0.9854 WARNING:tensorflow:Can save best model only with acc available, skipping.\n",
            "13/13 [==============================] - 375s 29s/step - loss: 0.0452 - accuracy: 0.9854\n",
            "Epoch 35/100\n",
            "13/13 [==============================] - ETA: 0s - loss: 0.0495 - accuracy: 0.9854 WARNING:tensorflow:Can save best model only with acc available, skipping.\n",
            "13/13 [==============================] - 308s 24s/step - loss: 0.0495 - accuracy: 0.9854\n",
            "Epoch 36/100\n",
            "10/13 [======================>.......] - ETA: 1:12 - loss: 0.0301 - accuracy: 0.9902"
          ]
        }
      ],
      "source": [
        "history = model.fit(x=Xtrain, y=ytrain, batch_size=256, epochs=100, callbacks=callbacks_list)"
      ]
    },
    {
      "cell_type": "code",
      "execution_count": null,
      "metadata": {
        "id": "nf-4hP43wC-m"
      },
      "outputs": [],
      "source": [
        "# load best weights\n",
        "model.load_weights(\"best-model.hdf5\")\n",
        "model.compile(loss='categorical_crossentropy', optimizer=adam, metrics=['accuracy'])"
      ]
    },
    {
      "cell_type": "code",
      "execution_count": null,
      "metadata": {
        "id": "2Q7yCP8jwG0z"
      },
      "outputs": [],
      "source": [
        "Xtest = Xtest.reshape(-1, windowSize, windowSize, K, 1)\n",
        "Xtest.shape"
      ]
    },
    {
      "cell_type": "code",
      "execution_count": null,
      "metadata": {
        "id": "unpGatUtwIQT"
      },
      "outputs": [],
      "source": [
        "ytest = np_utils.to_categorical(ytest)\n",
        "ytest.shape"
      ]
    },
    {
      "cell_type": "code",
      "execution_count": null,
      "metadata": {
        "id": "la1HdaPqwJ0r"
      },
      "outputs": [],
      "source": [
        "Y_pred_test = model.predict(Xtest)\n",
        "y_pred_test = np.argmax(Y_pred_test, axis=1)\n",
        "\n",
        "classification = classification_report(np.argmax(ytest, axis=1), y_pred_test)\n",
        "print(classification)"
      ]
    },
    {
      "cell_type": "code",
      "execution_count": null,
      "metadata": {
        "id": "mJD0h7eKwLas"
      },
      "outputs": [],
      "source": [
        "def AA_andEachClassAccuracy(confusion_matrix):\n",
        "    counter = confusion_matrix.shape[0]\n",
        "    list_diag = np.diag(confusion_matrix)\n",
        "    list_raw_sum = np.sum(confusion_matrix, axis=1)\n",
        "    each_acc = np.nan_to_num(truediv(list_diag, list_raw_sum))\n",
        "    average_acc = np.mean(each_acc)\n",
        "    return each_acc, average_acc"
      ]
    },
    {
      "cell_type": "code",
      "execution_count": null,
      "metadata": {
        "id": "rQLLpnBtwNNE"
      },
      "outputs": [],
      "source": [
        "def reports (X_test,y_test,name):\n",
        "    #start = time.time()\n",
        "    Y_pred = model.predict(X_test)\n",
        "    y_pred = np.argmax(Y_pred, axis=1)\n",
        "    #end = time.time()\n",
        "    #print(end - start)\n",
        "    \n",
        "    target_names = ['Alfalfa', 'Corn-notill', 'Corn-mintill', 'Corn'\n",
        "                        ,'Grass-pasture', 'Grass-trees', 'Grass-pasture-mowed', \n",
        "                        'Hay-windrowed', 'Oats', 'Soybean-notill', 'Soybean-mintill',\n",
        "                        'Soybean-clean', 'Wheat', 'Woods', 'Buildings-Grass-Trees-Drives',\n",
        "                        'Stone-Steel-Towers']\n",
        "    \n",
        "    classification = classification_report(np.argmax(y_test, axis=1), y_pred, target_names=target_names)\n",
        "    oa = accuracy_score(np.argmax(y_test, axis=1), y_pred)\n",
        "    confusion = confusion_matrix(np.argmax(y_test, axis=1), y_pred)\n",
        "    each_acc, aa = AA_andEachClassAccuracy(confusion)\n",
        "    kappa = cohen_kappa_score(np.argmax(y_test, axis=1), y_pred)\n",
        "    score = model.evaluate(X_test, y_test, batch_size=32)\n",
        "    Test_Loss =  score[0]*100\n",
        "    Test_accuracy = score[1]*100\n",
        "    \n",
        "    return classification, confusion, Test_Loss, Test_accuracy, oa*100, each_acc*100, aa*100, kappa*100"
      ]
    },
    {
      "cell_type": "code",
      "execution_count": null,
      "metadata": {
        "id": "T2oMVTUNwURi"
      },
      "outputs": [],
      "source": [
        "classification, confusion, Test_loss, Test_accuracy, oa, each_acc, aa, kappa = reports(Xtest,ytest,dataset)\n",
        "classification = str(classification)\n",
        "confusion = str(confusion)\n",
        "file_name = \"classification_report.txt\"\n",
        "\n",
        "with open(file_name, 'w') as x_file:\n",
        "    x_file.write('{} Test loss (%)'.format(Test_loss))\n",
        "    x_file.write('\\n')\n",
        "    x_file.write('{} Test accuracy (%)'.format(Test_accuracy))\n",
        "    x_file.write('\\n')\n",
        "    x_file.write('\\n')\n",
        "    x_file.write('{} Kappa accuracy (%)'.format(kappa))\n",
        "    x_file.write('\\n')\n",
        "    x_file.write('{} Overall accuracy (%)'.format(oa))\n",
        "    x_file.write('\\n')\n",
        "    x_file.write('{} Average accuracy (%)'.format(aa))\n",
        "    x_file.write('\\n')\n",
        "    x_file.write('\\n')\n",
        "    x_file.write('{}'.format(classification))\n",
        "    x_file.write('\\n')\n",
        "    x_file.write('{}'.format(confusion))"
      ]
    },
    {
      "cell_type": "code",
      "execution_count": null,
      "metadata": {
        "id": "Ttu54WS3wXWj"
      },
      "outputs": [],
      "source": [
        "def Patch(data,height_index,width_index):\n",
        "    height_slice = slice(height_index, height_index+PATCH_SIZE)\n",
        "    width_slice = slice(width_index, width_index+PATCH_SIZE)\n",
        "    patch = data[height_slice, width_slice, :]\n",
        "    \n",
        "    return patch"
      ]
    },
    {
      "cell_type": "code",
      "execution_count": null,
      "metadata": {
        "id": "w3QJJa56wZOw"
      },
      "outputs": [],
      "source": [
        "X, y = read_HSI()"
      ]
    },
    {
      "cell_type": "code",
      "execution_count": null,
      "metadata": {
        "id": "WCmw9lpDwfL8"
      },
      "outputs": [],
      "source": [
        "height = y.shape[0]\n",
        "width = y.shape[1]\n",
        "PATCH_SIZE = windowSize\n",
        "numComponents = K"
      ]
    },
    {
      "cell_type": "code",
      "execution_count": null,
      "metadata": {
        "id": "vKGaVDjewh_9"
      },
      "outputs": [],
      "source": [
        "X,pca = applyPCA(X, numComponents=numComponents)"
      ]
    },
    {
      "cell_type": "code",
      "execution_count": null,
      "metadata": {
        "id": "SYtuXwc7wkZJ"
      },
      "outputs": [],
      "source": [
        "X = padWithZeros(X, PATCH_SIZE//2)"
      ]
    },
    {
      "cell_type": "code",
      "execution_count": null,
      "metadata": {
        "id": "bl9bL6hAwl6u"
      },
      "outputs": [],
      "source": [
        "# calculate the predicted image\n",
        "outputs = np.zeros((height,width))\n",
        "for i in range(height):\n",
        "    for j in range(width):\n",
        "        target = int(y[i,j])\n",
        "        if target == 0 :\n",
        "            continue\n",
        "        else :\n",
        "            image_patch=Patch(X,i,j)\n",
        "            X_test_image = image_patch.reshape(1,image_patch.shape[0],image_patch.shape[1], image_patch.shape[2], 1).astype('float32')                                   \n",
        "            prediction = (model.predict(X_test_image))\n",
        "            prediction = np.argmax(prediction, axis=1)\n",
        "            outputs[i][j] = prediction+1"
      ]
    },
    {
      "cell_type": "code",
      "execution_count": null,
      "metadata": {
        "id": "M9kNatwawovT"
      },
      "outputs": [],
      "source": [
        "ground_truth = spectral.imshow(classes = y,figsize =(7,7))"
      ]
    },
    {
      "cell_type": "code",
      "execution_count": null,
      "metadata": {
        "id": "qegAvsFQwqfn"
      },
      "outputs": [],
      "source": [
        "predict_image = spectral.imshow(classes = outputs.astype(int),figsize =(7,7))"
      ]
    },
    {
      "cell_type": "code",
      "execution_count": null,
      "metadata": {
        "id": "-SMiadTNwsMU"
      },
      "outputs": [],
      "source": []
    }
  ],
  "metadata": {
    "colab": {
      "provenance": []
    },
    "kernelspec": {
      "display_name": "Python 3",
      "language": "python",
      "name": "python3"
    },
    "language_info": {
      "codemirror_mode": {
        "name": "ipython",
        "version": 3
      },
      "file_extension": ".py",
      "mimetype": "text/x-python",
      "name": "python",
      "nbconvert_exporter": "python",
      "pygments_lexer": "ipython3",
      "version": "3.10.6"
    },
    "vscode": {
      "interpreter": {
        "hash": "72d51217f46f0a75d734d5988827b06165477714304dcc202644ff7568f62824"
      }
    }
  },
  "nbformat": 4,
  "nbformat_minor": 0
}
