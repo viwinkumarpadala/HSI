{
  "nbformat": 4,
  "nbformat_minor": 0,
  "metadata": {
    "colab": {
      "provenance": []
    },
    "kernelspec": {
      "name": "python3",
      "display_name": "Python 3"
    },
    "language_info": {
      "name": "python"
    },
    "accelerator": "GPU",
    "gpuClass": "standard"
  },
  "cells": [
    {
      "cell_type": "code",
      "execution_count": 1,
      "metadata": {
        "colab": {
          "base_uri": "https://localhost:8080/",
          "height": 158
        },
        "id": "Ykj_-9-s-r3-",
        "outputId": "ac933e31-416f-4dc3-cf1a-d0d2b543d195"
      },
      "outputs": [
        {
          "output_type": "stream",
          "name": "stdout",
          "text": [
            "Looking in indexes: https://pypi.org/simple, https://us-python.pkg.dev/colab-wheels/public/simple/\n",
            "Collecting spectral\n",
            "  Downloading spectral-0.23.1-py3-none-any.whl (212 kB)\n",
            "\u001b[2K     \u001b[90m━━━━━━━━━━━━━━━━━━━━━━━━━━━━━━━━━━━━━━━\u001b[0m \u001b[32m212.9/212.9 kB\u001b[0m \u001b[31m5.0 MB/s\u001b[0m eta \u001b[36m0:00:00\u001b[0m\n",
            "\u001b[?25hRequirement already satisfied: numpy in /usr/local/lib/python3.9/dist-packages (from spectral) (1.22.4)\n",
            "Installing collected packages: spectral\n",
            "Successfully installed spectral-0.23.1\n"
          ]
        },
        {
          "output_type": "display_data",
          "data": {
            "text/html": [
              "        <script type=\"text/javascript\">\n",
              "        window.PlotlyConfig = {MathJaxConfig: 'local'};\n",
              "        if (window.MathJax && window.MathJax.Hub && window.MathJax.Hub.Config) {window.MathJax.Hub.Config({SVG: {font: \"STIX-Web\"}});}\n",
              "        if (typeof require !== 'undefined') {\n",
              "        require.undef(\"plotly\");\n",
              "        requirejs.config({\n",
              "            paths: {\n",
              "                'plotly': ['https://cdn.plot.ly/plotly-2.18.2.min']\n",
              "            }\n",
              "        });\n",
              "        require(['plotly'], function(Plotly) {\n",
              "            window._Plotly = Plotly;\n",
              "        });\n",
              "        }\n",
              "        </script>\n",
              "        "
            ]
          },
          "metadata": {}
        }
      ],
      "source": [
        "import keras\n",
        "from keras.layers import Conv1D, Conv2D, Conv3D, Flatten, Dense, Reshape, BatchNormalization\n",
        "from keras.layers import Dropout, Input\n",
        "from keras.models import Model\n",
        "from keras.optimizers import Adam\n",
        "from keras.callbacks import ModelCheckpoint\n",
        "from keras.utils import np_utils\n",
        "\n",
        "from scipy.io import loadmat\n",
        "from sklearn.decomposition import PCA\n",
        "from sklearn.model_selection import train_test_split\n",
        "from sklearn.metrics import confusion_matrix, accuracy_score, classification_report, cohen_kappa_score\n",
        "\n",
        "from operator import truediv\n",
        "\n",
        "from plotly.offline import init_notebook_mode\n",
        "\n",
        "import pandas as pd\n",
        "import numpy as np\n",
        "!pip install spectral\n",
        "import spectral\n",
        "import matplotlib.pyplot as plt\n",
        "init_notebook_mode(connected=True)\n",
        "%matplotlib inline"
      ]
    },
    {
      "cell_type": "code",
      "source": [
        "def read_HSI():\n",
        "  X = loadmat('Indian_pines_corrected.mat')['indian_pines_corrected']\n",
        "  y = loadmat('Indian_pines_gt.mat')['indian_pines_gt']\n",
        "  print(f\"X shape: {X.shape}\\ny shape: {y.shape}\")\n",
        "  return X, y\n"
      ],
      "metadata": {
        "id": "POTiYG8iAFz4"
      },
      "execution_count": 2,
      "outputs": []
    },
    {
      "cell_type": "code",
      "source": [
        "def applyPCA(X, numComponents=75):\n",
        "    newX = np.reshape(X, (-1, X.shape[2]))\n",
        "    pca = PCA(n_components=numComponents, whiten=True)\n",
        "    newX = pca.fit_transform(newX)\n",
        "    newX = np.reshape(newX, (X.shape[0], X.shape[1], numComponents))\n",
        "    return newX, pca"
      ],
      "metadata": {
        "id": "_GzEqx7_APZK"
      },
      "execution_count": 3,
      "outputs": []
    },
    {
      "cell_type": "code",
      "source": [
        "def padWithZeros(X, margin=2):\n",
        "    newX = np.zeros(\n",
        "        (X.shape[0] + 2 * margin, X.shape[1] + 2 * margin, X.shape[2]))\n",
        "    x_offset = margin\n",
        "    y_offset = margin\n",
        "    newX[x_offset:X.shape[0] + x_offset, y_offset:X.shape[1] + y_offset, :] = X\n",
        "    return newX\n"
      ],
      "metadata": {
        "id": "TQTaHrR3AUYm"
      },
      "execution_count": 4,
      "outputs": []
    },
    {
      "cell_type": "code",
      "source": [
        "def createImageCubes(X, y, windowSize=5, removeZeroLabels=True):\n",
        "    margin = int((windowSize - 1) / 2)\n",
        "    zeroPaddedX = padWithZeros(X, margin=margin)\n",
        "    # split patches\n",
        "    print(X.shape[0], X.shape[1], X.shape[2], zeroPaddedX.shape)\n",
        "    patchesData = np.zeros(\n",
        "        (X.shape[0] * X.shape[1], windowSize, windowSize, X.shape[2]))\n",
        "    patchesLabels = np.zeros((X.shape[0] * X.shape[1]))\n",
        "    patchIndex = 0\n",
        "    for r in range(margin, zeroPaddedX.shape[0] - margin,2):\n",
        "        for c in range(margin, zeroPaddedX.shape[1] - margin,2):\n",
        "            patch = zeroPaddedX[r - margin:r +\n",
        "                                margin + 1, c - margin:c + margin + 1]\n",
        "            patchesData[patchIndex, :, :, :] = patch\n",
        "            patchesLabels[patchIndex] = y[r-margin, c-margin]\n",
        "            patchIndex = patchIndex + 1\n",
        "    if removeZeroLabels:\n",
        "        patchesData = patchesData[patchesLabels > 0, :, :, :]\n",
        "        patchesLabels = patchesLabels[patchesLabels > 0]\n",
        "        patchesLabels -= 1\n",
        "    return patchesData, patchesLabels\n"
      ],
      "metadata": {
        "id": "JlHF17mEAZa8"
      },
      "execution_count": 5,
      "outputs": []
    },
    {
      "cell_type": "code",
      "source": [
        "def AA_andEachClassAccuracy(confusion_matrix):\n",
        "    counter = confusion_matrix.shape[0]\n",
        "    list_diag = np.diag(confusion_matrix)\n",
        "    list_raw_sum = np.sum(confusion_matrix, axis=1)\n",
        "    each_acc = np.nan_to_num(truediv(list_diag, list_raw_sum))\n",
        "    average_acc = np.mean(each_acc)\n",
        "    return each_acc, average_acc"
      ],
      "metadata": {
        "id": "xcXcNni9AjNm"
      },
      "execution_count": 6,
      "outputs": []
    },
    {
      "cell_type": "code",
      "source": [
        "def Patch(data, height_index, width_index):\n",
        "    height_slice = slice(height_index, height_index+PATCH_SIZE)\n",
        "    width_slice = slice(width_index, width_index+PATCH_SIZE)\n",
        "    patch = data[height_slice, width_slice, :]\n",
        "\n",
        "    return patch"
      ],
      "metadata": {
        "id": "pZXqj-cVAnTN"
      },
      "execution_count": 7,
      "outputs": []
    },
    {
      "cell_type": "markdown",
      "source": [
        "# **FIND THE BEST K VALUE FOR PCA**"
      ],
      "metadata": {
        "id": "EEKVC2sxAvud"
      }
    },
    {
      "cell_type": "code",
      "source": [
        "X, y = read_HSI()"
      ],
      "metadata": {
        "colab": {
          "base_uri": "https://localhost:8080/"
        },
        "id": "TS9TENSoAr4Q",
        "outputId": "3aa4ae3b-9b37-431c-89e2-47234b948e89"
      },
      "execution_count": 8,
      "outputs": [
        {
          "output_type": "stream",
          "name": "stdout",
          "text": [
            "X shape: (145, 145, 200)\n",
            "y shape: (145, 145)\n"
          ]
        }
      ]
    },
    {
      "cell_type": "code",
      "source": [
        "np.unique(y)"
      ],
      "metadata": {
        "colab": {
          "base_uri": "https://localhost:8080/"
        },
        "id": "LWN4uEmXA2GS",
        "outputId": "a44701f3-c196-4deb-e680-4ab2cf694a3f"
      },
      "execution_count": 9,
      "outputs": [
        {
          "output_type": "execute_result",
          "data": {
            "text/plain": [
              "array([ 0,  1,  2,  3,  4,  5,  6,  7,  8,  9, 10, 11, 12, 13, 14, 15, 16],\n",
              "      dtype=uint8)"
            ]
          },
          "metadata": {},
          "execution_count": 9
        }
      ]
    },
    {
      "cell_type": "code",
      "source": [
        "plt.figure(figsize=(8, 6))\n",
        "plt.imshow(y, cmap='jet')\n",
        "plt.colorbar()\n",
        "plt.axis('off')\n",
        "plt.title('Ground Truth')\n",
        "plt.gca().legend(['0', '1', '2', '3', '4', '5', '6', '7', '8', '9','10', '11', '12', '13', '14', '15', '16'], loc='upper left')\n",
        "#plt.savefig('ground_truth.png')\n",
        "plt.show()"
      ],
      "metadata": {
        "colab": {
          "base_uri": "https://localhost:8080/",
          "height": 529
        },
        "id": "HeY157i2A6Mu",
        "outputId": "a5cbfecd-0da3-4b05-bdcf-6e4a73d31a6a"
      },
      "execution_count": 10,
      "outputs": [
        {
          "output_type": "display_data",
          "data": {
            "text/plain": [
              "<Figure size 800x600 with 2 Axes>"
            ],
            "image/png": "[encoded data removed]"
          },
          "metadata": {}
        }
      ]
    },
    {
      "cell_type": "code",
      "source": [
        "print(y)"
      ],
      "metadata": {
        "colab": {
          "base_uri": "https://localhost:8080/"
        },
        "id": "qMvOKPArA9SG",
        "outputId": "e89fa237-e0fc-430f-effb-5e4e9b4b1dad"
      },
      "execution_count": 11,
      "outputs": [
        {
          "output_type": "stream",
          "name": "stdout",
          "text": [
            "[[3 3 3 ... 0 0 0]\n",
            " [3 3 3 ... 0 0 0]\n",
            " [3 3 3 ... 0 0 0]\n",
            " ...\n",
            " [0 0 0 ... 0 0 0]\n",
            " [0 0 0 ... 0 0 0]\n",
            " [0 0 0 ... 0 0 0]]\n"
          ]
        }
      ]
    },
    {
      "cell_type": "code",
      "source": [
        "X = X.reshape(X.shape[0]*X.shape[1], X.shape[2])"
      ],
      "metadata": {
        "id": "vmYpOfTTBBUA"
      },
      "execution_count": 12,
      "outputs": []
    },
    {
      "cell_type": "code",
      "source": [
        "y = y.ravel()"
      ],
      "metadata": {
        "id": "6g1IB9SzBEzn"
      },
      "execution_count": 13,
      "outputs": []
    },
    {
      "cell_type": "code",
      "source": [
        "label,counts=np.unique(y,return_counts=True)\n",
        "print(label)\n",
        "print(counts)"
      ],
      "metadata": {
        "colab": {
          "base_uri": "https://localhost:8080/"
        },
        "id": "qxORa_bQBHWW",
        "outputId": "a1203c87-b23c-49d1-dcfd-5a010fecd332"
      },
      "execution_count": 14,
      "outputs": [
        {
          "output_type": "stream",
          "name": "stdout",
          "text": [
            "[ 0  1  2  3  4  5  6  7  8  9 10 11 12 13 14 15 16]\n",
            "[10776    46  1428   830   237   483   730    28   478    20   972  2455\n",
            "   593   205  1265   386    93]\n"
          ]
        }
      ]
    },
    {
      "cell_type": "code",
      "source": [
        "from sklearn.preprocessing import StandardScaler\n",
        "scaler_model = StandardScaler()\n",
        "scaler_model.fit(X.astype(float))\n",
        "X=scaler_model.transform(X)"
      ],
      "metadata": {
        "id": "PVHv7verBLVO"
      },
      "execution_count": 15,
      "outputs": []
    },
    {
      "cell_type": "code",
      "source": [
        "print(\"X:\", (X.shape))\n",
        "print(\"y:\", (y.shape))"
      ],
      "metadata": {
        "colab": {
          "base_uri": "https://localhost:8080/"
        },
        "id": "1ZuMXWkGBPXZ",
        "outputId": "04eaa626-87d9-4db8-e7ba-6d2de52ed5da"
      },
      "execution_count": 16,
      "outputs": [
        {
          "output_type": "stream",
          "name": "stdout",
          "text": [
            "X: (21025, 200)\n",
            "y: (21025,)\n"
          ]
        }
      ]
    },
    {
      "cell_type": "code",
      "source": [
        "X = (X[y>0,:])\n",
        "Y = (y[y>0])"
      ],
      "metadata": {
        "id": "MxIZZUSTBS5p"
      },
      "execution_count": 17,
      "outputs": []
    },
    {
      "cell_type": "code",
      "source": [
        "print(\"X:\", (X.shape))\n",
        "print(\"y:\", (y.shape))"
      ],
      "metadata": {
        "colab": {
          "base_uri": "https://localhost:8080/"
        },
        "id": "gvDZfxyzBXcI",
        "outputId": "520b7078-44d8-4839-a799-7f9df74cc5c2"
      },
      "execution_count": 18,
      "outputs": [
        {
          "output_type": "stream",
          "name": "stdout",
          "text": [
            "X: (10249, 200)\n",
            "y: (21025,)\n"
          ]
        }
      ]
    },
    {
      "cell_type": "code",
      "source": [
        "pca = PCA(n_components = 75)\n",
        "X = pca.fit_transform(X)"
      ],
      "metadata": {
        "id": "5zEK8IaqCuqj"
      },
      "execution_count": 19,
      "outputs": []
    },
    {
      "cell_type": "code",
      "source": [
        "np.cumsum(pca.explained_variance_ratio_)"
      ],
      "metadata": {
        "colab": {
          "base_uri": "https://localhost:8080/"
        },
        "id": "AEdb8A0ICxOx",
        "outputId": "084461e7-60c6-4a42-8c85-72bf232a8207"
      },
      "execution_count": 20,
      "outputs": [
        {
          "output_type": "execute_result",
          "data": {
            "text/plain": [
              "array([0.68738846, 0.87307195, 0.90336774, 0.92106184, 0.93397519,\n",
              "       0.9404841 , 0.94555385, 0.94971401, 0.95342082, 0.95677653,\n",
              "       0.95947647, 0.96214806, 0.96447112, 0.96662825, 0.96869344,\n",
              "       0.97052915, 0.97210577, 0.97363506, 0.97513317, 0.97647022,\n",
              "       0.97772841, 0.97886063, 0.97996183, 0.98098477, 0.98193106,\n",
              "       0.98279177, 0.98363225, 0.98442276, 0.98520169, 0.98597545,\n",
              "       0.98669647, 0.98733939, 0.98793382, 0.98851366, 0.98906986,\n",
              "       0.98959938, 0.99006071, 0.99050754, 0.99092868, 0.99131656,\n",
              "       0.99166295, 0.99197705, 0.99228336, 0.9925768 , 0.99286327,\n",
              "       0.99314129, 0.99340268, 0.99364768, 0.99388279, 0.99410434,\n",
              "       0.99430744, 0.99450218, 0.994694  , 0.99487638, 0.99505414,\n",
              "       0.99522542, 0.99539045, 0.99555229, 0.99571174, 0.9958554 ,\n",
              "       0.9959957 , 0.99612694, 0.99625665, 0.99638311, 0.99650662,\n",
              "       0.99662454, 0.99673598, 0.99684687, 0.99694985, 0.9970474 ,\n",
              "       0.99714346, 0.99723284, 0.99731794, 0.99739974, 0.99748079])"
            ]
          },
          "metadata": {},
          "execution_count": 20
        }
      ]
    },
    {
      "cell_type": "code",
      "source": [
        "print(pca.n_components_)\n",
        "plt.figure()\n",
        "plt.plot(np.cumsum(pca.explained_variance_ratio_))\n",
        "plt.xlabel('Number of Components')\n",
        "plt.ylabel('Cumulative Variance')\n",
        "plt.savefig('indian_pines_explainedvariance_final')\n",
        "plt.show()\n",
        "plt.savefig('CVvsNP.png')"
      ],
      "metadata": {
        "colab": {
          "base_uri": "https://localhost:8080/",
          "height": 484
        },
        "id": "HuPk_x3ZC0rU",
        "outputId": "f9cea60f-bdf5-4964-fbc6-4c8f863dda04"
      },
      "execution_count": 23,
      "outputs": [
        {
          "output_type": "stream",
          "name": "stdout",
          "text": [
            "75\n"
          ]
        },
        {
          "output_type": "display_data",
          "data": {
            "text/plain": [
              "<Figure size 640x480 with 1 Axes>"
            ],
            "image/png": "[encoded data removed]"
          },
          "metadata": {}
        },
        {
          "output_type": "display_data",
          "data": {
            "text/plain": [
              "<Figure size 640x480 with 0 Axes>"
            ]
          },
          "metadata": {}
        }
      ]
    },
    {
      "cell_type": "code",
      "source": [],
      "metadata": {
        "id": "2iBwV1JmDOUO"
      },
      "execution_count": null,
      "outputs": []
    }
  ]
}