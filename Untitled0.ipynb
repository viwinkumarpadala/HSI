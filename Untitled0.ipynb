{
  "cells": [
    {
      "cell_type": "code",
      "execution_count": 1,
      "metadata": {
        "id": "hiG6rhZ9z5XR"
      },
      "outputs": [],
      "source": [
        "import numpy as np\n",
        "import matplotlib.pyplot as plt\n",
        "import pandas as pd\n",
        "from sklearn import decomposition\n",
        "from sklearn.preprocessing import MinMaxScaler\n",
        "from sklearn.decomposition import PCA\n",
        "import seaborn as sns\n",
        "from scipy.io import loadmat\n",
        "from sklearn.model_selection import train_test_split"
      ]
    },
    {
      "cell_type": "markdown",
      "metadata": {
        "id": "kr2BnHTK4MgE"
      },
      "source": [
        "## INDIAN PINES DATASET"
      ]
    },
    {
      "cell_type": "code",
      "execution_count": 2,
      "metadata": {
        "colab": {
          "base_uri": "https://localhost:8080/"
        },
        "id": "Fm4mCddD4VyH",
        "outputId": "3c265be0-02f0-4691-8edf-908032eac82a"
      },
      "outputs": [
        {
          "name": "stdout",
          "output_type": "stream",
          "text": [
            "X shape: (145, 145, 200)\n",
            "y shape: (145, 145)\n"
          ]
        }
      ],
      "source": [
        "def read_HSI():\n",
        "  X = loadmat('Indian_pines_corrected.mat')['indian_pines_corrected']\n",
        "  y = loadmat('Indian_pines_gt.mat')['indian_pines_gt']\n",
        "  print(f\"X shape: {X.shape}\\ny shape: {y.shape}\")\n",
        "  return X, y\n",
        "\n",
        "X, y = read_HSI()"
      ]
    },
    {
      "cell_type": "code",
      "execution_count": 3,
      "metadata": {
        "colab": {
          "base_uri": "https://localhost:8080/"
        },
        "id": "ce9O8sm5OFEV",
        "outputId": "1d946b76-a7fc-4aa1-ee14-0fd396771108"
      },
      "outputs": [
        {
          "data": {
            "text/plain": [
              "array([ 0,  1,  2,  3,  4,  5,  6,  7,  8,  9, 10, 11, 12, 13, 14, 15, 16],\n",
              "      dtype=uint8)"
            ]
          },
          "execution_count": 3,
          "metadata": {},
          "output_type": "execute_result"
        }
      ],
      "source": [
        "np.unique(y)"
      ]
    },
    {
      "cell_type": "code",
      "execution_count": 4,
      "metadata": {
        "colab": {
          "base_uri": "https://localhost:8080/",
          "height": 379
        },
        "id": "57l8O1-Ln5Fe",
        "outputId": "ec764a9b-3af8-46aa-d5df-38c720f98b8e"
      },
      "outputs": [
        {
          "data": {
            "image/png": "[encoded data removed]",
            "text/plain": [
              "<Figure size 800x600 with 2 Axes>"
            ]
          },
          "metadata": {},
          "output_type": "display_data"
        }
      ],
      "source": [
        "plt.figure(figsize=(8, 6))\n",
        "plt.imshow(y, cmap='jet')\n",
        "plt.colorbar()\n",
        "plt.axis('off')\n",
        "plt.title('Ground Truth')\n",
        "plt.gca().legend(['0', '1', '2', '3', '4', '5', '6', '7', '8', '9','10', '11', '12', '13', '14', '15', '16'], loc='upper left')\n",
        "#plt.savefig('ground_truth.png')\n",
        "plt.show()"
      ]
    },
    {
      "cell_type": "code",
      "execution_count": 5,
      "metadata": {
        "colab": {
          "base_uri": "https://localhost:8080/"
        },
        "id": "Y8jY_i4gPVG1",
        "outputId": "fbeb7d73-020b-41ab-acf0-ffde18133679"
      },
      "outputs": [
        {
          "name": "stdout",
          "output_type": "stream",
          "text": [
            "[[3 3 3 ... 0 0 0]\n",
            " [3 3 3 ... 0 0 0]\n",
            " [3 3 3 ... 0 0 0]\n",
            " ...\n",
            " [0 0 0 ... 0 0 0]\n",
            " [0 0 0 ... 0 0 0]\n",
            " [0 0 0 ... 0 0 0]]\n"
          ]
        }
      ],
      "source": [
        "print(y)"
      ]
    },
    {
      "cell_type": "code",
      "execution_count": 6,
      "metadata": {
        "id": "kXUeNSIRpCte"
      },
      "outputs": [],
      "source": [
        "X = X.reshape(X.shape[0]*X.shape[1], X.shape[2])"
      ]
    },
    {
      "cell_type": "code",
      "execution_count": 7,
      "metadata": {
        "id": "U5TWsz32pGn0"
      },
      "outputs": [],
      "source": [
        "y = y.ravel()"
      ]
    },
    {
      "cell_type": "code",
      "execution_count": 8,
      "metadata": {
        "colab": {
          "base_uri": "https://localhost:8080/"
        },
        "id": "zyOae8j1rmvM",
        "outputId": "9d462f40-3534-417b-e131-44b66d84e22b"
      },
      "outputs": [
        {
          "name": "stdout",
          "output_type": "stream",
          "text": [
            "[ 0  1  2  3  4  5  6  7  8  9 10 11 12 13 14 15 16]\n",
            "[10776    46  1428   830   237   483   730    28   478    20   972  2455\n",
            "   593   205  1265   386    93]\n"
          ]
        }
      ],
      "source": [
        "label,counts=np.unique(y,return_counts=True)\n",
        "print(label)\n",
        "print(counts)"
      ]
    },
    {
      "cell_type": "code",
      "execution_count": 9,
      "metadata": {
        "id": "iXgeE7b7sSs1"
      },
      "outputs": [],
      "source": [
        "# Standardizing the features\n",
        "from sklearn.preprocessing import StandardScaler\n",
        "scaler_model = StandardScaler()\n",
        "scaler_model.fit(X.astype(float))\n",
        "X=scaler_model.transform(X)"
      ]
    },
    {
      "cell_type": "code",
      "execution_count": 10,
      "metadata": {
        "colab": {
          "base_uri": "https://localhost:8080/"
        },
        "id": "Qgfv2-ACsTTe",
        "outputId": "282efd6d-08c9-4e14-9187-e0e89fd6e2e3"
      },
      "outputs": [
        {
          "name": "stdout",
          "output_type": "stream",
          "text": [
            "X: (21025, 200)\n",
            "y: (21025,)\n"
          ]
        }
      ],
      "source": [
        "print(\"X:\", (X.shape))\n",
        "print(\"y:\", (y.shape))"
      ]
    },
    {
      "cell_type": "code",
      "execution_count": 11,
      "metadata": {
        "id": "2NcGqDNWsYpn"
      },
      "outputs": [],
      "source": [
        "X = (X[y>0,:])\n",
        "Y = (y[y>0])"
      ]
    },
    {
      "cell_type": "code",
      "execution_count": 12,
      "metadata": {
        "colab": {
          "base_uri": "https://localhost:8080/"
        },
        "id": "KQkbM-N2stXL",
        "outputId": "1b848b37-8fc3-4cdd-e94b-8a224ed4e8e4"
      },
      "outputs": [
        {
          "name": "stdout",
          "output_type": "stream",
          "text": [
            "X: (10249, 200)\n",
            "y: (21025,)\n"
          ]
        }
      ],
      "source": [
        "print(\"X:\", (X.shape))\n",
        "print(\"y:\", (y.shape))"
      ]
    },
    {
      "cell_type": "code",
      "execution_count": 13,
      "metadata": {
        "id": "6IpV_OhM5K8z"
      },
      "outputs": [],
      "source": [
        "pca = PCA(n_components = 75)\n",
        "X = pca.fit_transform(X)"
      ]
    },
    {
      "cell_type": "code",
      "execution_count": 14,
      "metadata": {
        "colab": {
          "base_uri": "https://localhost:8080/"
        },
        "id": "y7h2OhEcsw4l",
        "outputId": "fbd482ce-5a22-4cee-fae5-fe68ae251afc"
      },
      "outputs": [
        {
          "data": {
            "text/plain": [
              "array([0.68738846, 0.87307195, 0.90336774, 0.92106184, 0.93397519,\n",
              "       0.9404841 , 0.94555385, 0.94971401, 0.95342082, 0.95677653,\n",
              "       0.95947647, 0.96214806, 0.96447112, 0.96662825, 0.96869344,\n",
              "       0.97052915, 0.97210577, 0.97363506, 0.97513317, 0.97647022,\n",
              "       0.97772841, 0.97886063, 0.97996183, 0.98098477, 0.98193106,\n",
              "       0.98279177, 0.98363225, 0.98442276, 0.98520169, 0.98597545,\n",
              "       0.98669647, 0.98733939, 0.98793382, 0.98851366, 0.98906986,\n",
              "       0.98959938, 0.99006071, 0.99050754, 0.99092868, 0.99131656,\n",
              "       0.99166295, 0.99197705, 0.99228336, 0.9925768 , 0.99286327,\n",
              "       0.99314129, 0.99340268, 0.99364768, 0.99388279, 0.99410434,\n",
              "       0.99430744, 0.99450218, 0.994694  , 0.99487638, 0.99505414,\n",
              "       0.99522543, 0.99539045, 0.99555229, 0.99571175, 0.99585543,\n",
              "       0.99599575, 0.99612696, 0.99625668, 0.9963831 , 0.99650666,\n",
              "       0.99662464, 0.99673624, 0.99684704, 0.99695   , 0.99704736,\n",
              "       0.99714356, 0.99723286, 0.99731813, 0.99739978, 0.99748068])"
            ]
          },
          "execution_count": 14,
          "metadata": {},
          "output_type": "execute_result"
        }
      ],
      "source": [
        "np.cumsum(pca.explained_variance_ratio_)"
      ]
    },
    {
      "cell_type": "code",
      "execution_count": 15,
      "metadata": {
        "colab": {
          "base_uri": "https://localhost:8080/"
        },
        "id": "00mkikN0tQpU",
        "outputId": "342f5b79-1d74-431f-cbda-7076de469e6f"
      },
      "outputs": [
        {
          "name": "stdout",
          "output_type": "stream",
          "text": [
            "(10249, 75)\n",
            "75\n"
          ]
        }
      ],
      "source": [
        "print(X.shape)\n",
        "print(pca.n_components_)"
      ]
    },
    {
      "cell_type": "code",
      "execution_count": 16,
      "metadata": {
        "id": "-Rrjk7RItVG9"
      },
      "outputs": [],
      "source": [
        "X_train, X_test, y_train, y_test = train_test_split(X, Y, random_state = 10, test_size = 0.25, stratify=Y )"
      ]
    },
    {
      "cell_type": "code",
      "execution_count": 17,
      "metadata": {
        "colab": {
          "base_uri": "https://localhost:8080/"
        },
        "id": "HGx-KG5wtb59",
        "outputId": "d4a7b01c-38fb-4710-df44-a7df9cb6c5ef"
      },
      "outputs": [
        {
          "name": "stdout",
          "output_type": "stream",
          "text": [
            "(7686, 75)\n",
            "(2563, 75)\n",
            "(7686,)\n",
            "(2563,)\n"
          ]
        }
      ],
      "source": [
        "print(X_train.shape)\n",
        "print(X_test.shape)\n",
        "print(y_train.shape)\n",
        "print(y_test.shape)"
      ]
    },
    {
      "cell_type": "code",
      "execution_count": 18,
      "metadata": {
        "colab": {
          "base_uri": "https://localhost:8080/"
        },
        "id": "osVw90IvthJm",
        "outputId": "e02972c7-c97b-43ee-d3c9-81a8df93fbd2"
      },
      "outputs": [
        {
          "name": "stdout",
          "output_type": "stream",
          "text": [
            "       0\n",
            "1     35\n",
            "2   1071\n",
            "3    622\n",
            "4    178\n",
            "5    362\n",
            "6    547\n",
            "7     21\n",
            "8    358\n",
            "9     15\n",
            "10   729\n",
            "11  1841\n",
            "12   445\n",
            "13   154\n",
            "14   949\n",
            "15   289\n",
            "16    70\n",
            "      0\n",
            "1    11\n",
            "2   357\n",
            "3   208\n",
            "4    59\n",
            "5   121\n",
            "6   183\n",
            "7     7\n",
            "8   120\n",
            "9     5\n",
            "10  243\n",
            "11  614\n",
            "12  148\n",
            "13   51\n",
            "14  316\n",
            "15   97\n",
            "16   23\n"
          ]
        }
      ],
      "source": [
        "label_tr,counts_tr=np.unique(y_train,return_counts=True)\n",
        "label_te,counts_te=np.unique(y_test,return_counts=True)\n",
        "print(pd.DataFrame(counts_tr,label_tr))\n",
        "print(pd.DataFrame(counts_te,label_te))"
      ]
    },
    {
      "cell_type": "code",
      "execution_count": 19,
      "metadata": {
        "id": "feuwOBINt5GA"
      },
      "outputs": [],
      "source": [
        "#Applying Scalar to train and test Dataset\n",
        "\n",
        "from sklearn import preprocessing\n",
        "scaler = preprocessing.StandardScaler().fit(X_train) \n",
        "X_train= scaler.transform(X_train)\n",
        "X_test=scaler.transform(X_test)"
      ]
    },
    {
      "cell_type": "code",
      "execution_count": 20,
      "metadata": {
        "colab": {
          "base_uri": "https://localhost:8080/",
          "height": 296
        },
        "id": "sMA4A-oCuQ2i",
        "outputId": "2dccfc98-7afd-43f0-b34d-9531d70847f6"
      },
      "outputs": [
        {
          "name": "stdout",
          "output_type": "stream",
          "text": [
            "75\n"
          ]
        },
        {
          "data": {
            "image/png": "[encoded data removed]",
            "text/plain": [
              "<Figure size 640x480 with 1 Axes>"
            ]
          },
          "metadata": {},
          "output_type": "display_data"
        }
      ],
      "source": [
        "print(pca.n_components_)\n",
        "plt.figure()\n",
        "plt.plot(np.cumsum(pca.explained_variance_ratio_))\n",
        "plt.xlabel('Number of Components')\n",
        "plt.ylabel('Cumulative Variance') #for each component\n",
        "#plt.title('Inidian_pines Dataset Explained Variance')\n",
        "plt.savefig('indian_pines_explainedvariance_final')\n",
        "plt.show()"
      ]
    },
    {
      "cell_type": "code",
      "execution_count": 21,
      "metadata": {
        "id": "Biu3biAJuTG0"
      },
      "outputs": [],
      "source": [
        "from sklearn.svm import SVC\n",
        "from sklearn import metrics"
      ]
    },
    {
      "cell_type": "code",
      "execution_count": 22,
      "metadata": {
        "colab": {
          "background_save": true,
          "base_uri": "https://localhost:8080/"
        },
        "id": "TEqFF6Rluk2m",
        "outputId": "9249803e-0a4e-4804-a7a5-09c2132eac7e"
      },
      "outputs": [
        {
          "name": "stdout",
          "output_type": "stream",
          "text": [
            "----------------------------------------------------------------\n",
            "C_train=  1  Best C_train =  1  gamma_train =  0.001  best_gamma_train=  0.001  Accuracy_train =  0.7501951600312255  Best Accuracy_train =  0.7501951600312255 \n",
            "\n",
            "C=  1  Best C =  1  gamma =  0.001  best_gamma=  0.001  Accuracy =  0.7339055793991416  Best Accuracy =  0.7339055793991416 \n",
            "\n",
            "----------------------------------------------------------------\n",
            "C_train=  1  Best C_train =  1  gamma_train =  0.006  best_gamma_train=  0.006  Accuracy_train =  0.8797814207650273  Best Accuracy_train =  0.8797814207650273 \n",
            "\n",
            "C=  1  Best C =  1  gamma =  0.006  best_gamma=  0.006  Accuracy =  0.8275458447132267  Best Accuracy =  0.8275458447132267 \n",
            "\n",
            "----------------------------------------------------------------\n",
            "C_train=  1  Best C_train =  1  gamma_train =  0.011  best_gamma_train=  0.011  Accuracy_train =  0.9192037470725996  Best Accuracy_train =  0.9192037470725996 \n",
            "\n",
            "C=  1  Best C =  1  gamma =  0.011  best_gamma=  0.011  Accuracy =  0.8349590323839251  Best Accuracy =  0.8349590323839251 \n",
            "\n",
            "----------------------------------------------------------------\n",
            "C_train=  1  Best C_train =  1  gamma_train =  0.016  best_gamma_train=  0.016  Accuracy_train =  0.9461358313817331  Best Accuracy_train =  0.9461358313817331 \n",
            "\n",
            "C=  1  Best C =  1  gamma =  0.016  best_gamma=  0.011  Accuracy =  0.8267655091689426  Best Accuracy =  0.8349590323839251 \n",
            "\n",
            "----------------------------------------------------------------\n",
            "C_train=  1  Best C_train =  1  gamma_train =  0.021  best_gamma_train=  0.021  Accuracy_train =  0.9642206609419725  Best Accuracy_train =  0.9642206609419725 \n",
            "\n",
            "C=  1  Best C =  1  gamma =  0.021  best_gamma=  0.011  Accuracy =  0.8166211470932501  Best Accuracy =  0.8349590323839251 \n",
            "\n",
            "----------------------------------------------------------------\n",
            "C_train=  1  Best C_train =  1  gamma_train =  0.026000000000000002  best_gamma_train=  0.026000000000000002  Accuracy_train =  0.9771012230028624  Best Accuracy_train =  0.9771012230028624 \n",
            "\n",
            "C=  1  Best C =  1  gamma =  0.026000000000000002  best_gamma=  0.011  Accuracy =  0.8029652750682793  Best Accuracy =  0.8349590323839251 \n",
            "\n",
            "----------------------------------------------------------------\n",
            "C_train=  1  Best C_train =  1  gamma_train =  0.031  best_gamma_train=  0.031  Accuracy_train =  0.9860785844392401  Best Accuracy_train =  0.9860785844392401 \n",
            "\n",
            "C=  1  Best C =  1  gamma =  0.031  best_gamma=  0.011  Accuracy =  0.7869683964104565  Best Accuracy =  0.8349590323839251 \n",
            "\n",
            "----------------------------------------------------------------\n",
            "C_train=  1  Best C_train =  1  gamma_train =  0.036000000000000004  best_gamma_train=  0.036000000000000004  Accuracy_train =  0.9903721051262034  Best Accuracy_train =  0.9903721051262034 \n",
            "\n",
            "C=  1  Best C =  1  gamma =  0.036000000000000004  best_gamma=  0.011  Accuracy =  0.759266484588373  Best Accuracy =  0.8349590323839251 \n",
            "\n",
            "----------------------------------------------------------------\n",
            "C_train=  1  Best C_train =  1  gamma_train =  0.041  best_gamma_train=  0.041  Accuracy_train =  0.9932344522508457  Best Accuracy_train =  0.9932344522508457 \n",
            "\n",
            "C=  1  Best C =  1  gamma =  0.041  best_gamma=  0.011  Accuracy =  0.7362465860319938  Best Accuracy =  0.8349590323839251 \n",
            "\n",
            "----------------------------------------------------------------\n",
            "C_train=  1  Best C_train =  1  gamma_train =  0.046  best_gamma_train=  0.046  Accuracy_train =  0.9949258391881343  Best Accuracy_train =  0.9949258391881343 \n",
            "\n",
            "C=  1  Best C =  1  gamma =  0.046  best_gamma=  0.011  Accuracy =  0.7062036675770581  Best Accuracy =  0.8349590323839251 \n",
            "\n",
            "----------------------------------------------------------------\n",
            "C_train=  1  Best C_train =  1  gamma_train =  0.051000000000000004  best_gamma_train=  0.051000000000000004  Accuracy_train =  0.9962269060629716  Best Accuracy_train =  0.9962269060629716 \n",
            "\n",
            "C=  1  Best C =  1  gamma =  0.051000000000000004  best_gamma=  0.011  Accuracy =  0.6679672259071401  Best Accuracy =  0.8349590323839251 \n",
            "\n",
            "----------------------------------------------------------------\n",
            "C_train=  1  Best C_train =  1  gamma_train =  0.056  best_gamma_train=  0.056  Accuracy_train =  0.9967473328129066  Best Accuracy_train =  0.9967473328129066 \n",
            "\n",
            "C=  1  Best C =  1  gamma =  0.056  best_gamma=  0.011  Accuracy =  0.6332422941865002  Best Accuracy =  0.8349590323839251 \n",
            "\n",
            "----------------------------------------------------------------\n",
            "C_train=  1  Best C_train =  1  gamma_train =  0.061  best_gamma_train=  0.061  Accuracy_train =  0.998048399687744  Best Accuracy_train =  0.998048399687744 \n",
            "\n",
            "C=  1  Best C =  1  gamma =  0.061  best_gamma=  0.011  Accuracy =  0.591104174795162  Best Accuracy =  0.8349590323839251 \n",
            "\n",
            "----------------------------------------------------------------\n",
            "C_train=  1  Best C_train =  1  gamma_train =  0.066  best_gamma_train=  0.066  Accuracy_train =  0.9983086130627115  Best Accuracy_train =  0.9983086130627115 \n",
            "\n",
            "C=  1  Best C =  1  gamma =  0.066  best_gamma=  0.011  Accuracy =  0.5489660554038236  Best Accuracy =  0.8349590323839251 \n",
            "\n",
            "----------------------------------------------------------------\n",
            "C_train=  1  Best C_train =  1  gamma_train =  0.07100000000000001  best_gamma_train=  0.07100000000000001  Accuracy_train =  0.9985688264376789  Best Accuracy_train =  0.9985688264376789 \n",
            "\n",
            "C=  1  Best C =  1  gamma =  0.07100000000000001  best_gamma=  0.011  Accuracy =  0.5029262582910652  Best Accuracy =  0.8349590323839251 \n",
            "\n",
            "----------------------------------------------------------------\n",
            "C_train=  1  Best C_train =  1  gamma_train =  0.076  best_gamma_train=  0.076  Accuracy_train =  0.9988290398126464  Best Accuracy_train =  0.9988290398126464 \n",
            "\n",
            "C=  1  Best C =  1  gamma =  0.076  best_gamma=  0.011  Accuracy =  0.46195864221615296  Best Accuracy =  0.8349590323839251 \n",
            "\n",
            "----------------------------------------------------------------\n",
            "C_train=  1  Best C_train =  1  gamma_train =  0.081  best_gamma_train=  0.081  Accuracy_train =  0.9994795732500651  Best Accuracy_train =  0.9994795732500651 \n",
            "\n",
            "C=  1  Best C =  1  gamma =  0.081  best_gamma=  0.011  Accuracy =  0.40148263753413965  Best Accuracy =  0.8349590323839251 \n",
            "\n",
            "----------------------------------------------------------------\n",
            "C_train=  1  Best C_train =  1  gamma_train =  0.08600000000000001  best_gamma_train=  0.081  Accuracy_train =  0.9994795732500651  Best Accuracy_train =  0.9994795732500651 \n",
            "\n",
            "C=  1  Best C =  1  gamma =  0.08600000000000001  best_gamma=  0.011  Accuracy =  0.35388216933281313  Best Accuracy =  0.8349590323839251 \n",
            "\n",
            "----------------------------------------------------------------\n",
            "C_train=  1  Best C_train =  1  gamma_train =  0.091  best_gamma_train=  0.091  Accuracy_train =  0.9997397866250325  Best Accuracy_train =  0.9997397866250325 \n",
            "\n",
            "C=  1  Best C =  1  gamma =  0.091  best_gamma=  0.011  Accuracy =  0.31954740538431525  Best Accuracy =  0.8349590323839251 \n",
            "\n",
            "----------------------------------------------------------------\n",
            "C_train=  1  Best C_train =  1  gamma_train =  0.096  best_gamma_train=  0.096  Accuracy_train =  0.9998698933125163  Best Accuracy_train =  0.9998698933125163 \n",
            "\n",
            "C=  1  Best C =  1  gamma =  0.096  best_gamma=  0.011  Accuracy =  0.2828716348029653  Best Accuracy =  0.8349590323839251 \n",
            "\n",
            "----------------------------------------------------------------\n",
            "C_train=  26  Best C_train =  1  gamma_train =  0.001  best_gamma_train=  0.096  Accuracy_train =  0.9058027582617747  Best Accuracy_train =  0.9998698933125163 \n",
            "\n",
            "C=  26  Best C =  26  gamma =  0.001  best_gamma=  0.001  Accuracy =  0.8478345688646118  Best Accuracy =  0.8478345688646118 \n",
            "\n",
            "----------------------------------------------------------------\n",
            "C_train=  26  Best C_train =  1  gamma_train =  0.006  best_gamma_train=  0.096  Accuracy_train =  0.9977881863127764  Best Accuracy_train =  0.9998698933125163 \n",
            "\n",
            "C=  26  Best C =  26  gamma =  0.006  best_gamma=  0.006  Accuracy =  0.8599297698010144  Best Accuracy =  0.8599297698010144 \n",
            "\n",
            "----------------------------------------------------------------\n",
            "C_train=  26  Best C_train =  26  gamma_train =  0.011  best_gamma_train=  0.011  Accuracy_train =  1.0  Best Accuracy_train =  1.0 \n",
            "\n",
            "C=  26  Best C =  26  gamma =  0.011  best_gamma=  0.006  Accuracy =  0.8579789309403043  Best Accuracy =  0.8599297698010144 \n",
            "\n",
            "----------------------------------------------------------------\n",
            "C_train=  26  Best C_train =  26  gamma_train =  0.016  best_gamma_train=  0.011  Accuracy_train =  1.0  Best Accuracy_train =  1.0 \n",
            "\n",
            "C=  26  Best C =  26  gamma =  0.016  best_gamma=  0.006  Accuracy =  0.8486149044088959  Best Accuracy =  0.8599297698010144 \n",
            "\n",
            "----------------------------------------------------------------\n",
            "C_train=  26  Best C_train =  26  gamma_train =  0.021  best_gamma_train=  0.011  Accuracy_train =  1.0  Best Accuracy_train =  1.0 \n",
            "\n",
            "C=  26  Best C =  26  gamma =  0.021  best_gamma=  0.006  Accuracy =  0.8353492001560671  Best Accuracy =  0.8599297698010144 \n",
            "\n",
            "----------------------------------------------------------------\n",
            "C_train=  26  Best C_train =  26  gamma_train =  0.026000000000000002  best_gamma_train=  0.011  Accuracy_train =  1.0  Best Accuracy_train =  1.0 \n",
            "\n",
            "C=  26  Best C =  26  gamma =  0.026000000000000002  best_gamma=  0.006  Accuracy =  0.8201326570425282  Best Accuracy =  0.8599297698010144 \n",
            "\n",
            "----------------------------------------------------------------\n",
            "C_train=  26  Best C_train =  26  gamma_train =  0.031  best_gamma_train=  0.011  Accuracy_train =  1.0  Best Accuracy_train =  1.0 \n",
            "\n",
            "C=  26  Best C =  26  gamma =  0.031  best_gamma=  0.006  Accuracy =  0.8033554428404214  Best Accuracy =  0.8599297698010144 \n",
            "\n",
            "----------------------------------------------------------------\n",
            "C_train=  26  Best C_train =  26  gamma_train =  0.036000000000000004  best_gamma_train=  0.011  Accuracy_train =  1.0  Best Accuracy_train =  1.0 \n",
            "\n",
            "C=  26  Best C =  26  gamma =  0.036000000000000004  best_gamma=  0.006  Accuracy =  0.7873585641825985  Best Accuracy =  0.8599297698010144 \n",
            "\n",
            "----------------------------------------------------------------\n",
            "C_train=  26  Best C_train =  26  gamma_train =  0.041  best_gamma_train=  0.011  Accuracy_train =  1.0  Best Accuracy_train =  1.0 \n",
            "\n",
            "C=  26  Best C =  26  gamma =  0.041  best_gamma=  0.006  Accuracy =  0.7530238002341006  Best Accuracy =  0.8599297698010144 \n",
            "\n",
            "----------------------------------------------------------------\n",
            "C_train=  26  Best C_train =  26  gamma_train =  0.046  best_gamma_train=  0.011  Accuracy_train =  1.0  Best Accuracy_train =  1.0 \n",
            "\n",
            "C=  26  Best C =  26  gamma =  0.046  best_gamma=  0.006  Accuracy =  0.7253218884120172  Best Accuracy =  0.8599297698010144 \n",
            "\n",
            "----------------------------------------------------------------\n",
            "C_train=  26  Best C_train =  26  gamma_train =  0.051000000000000004  best_gamma_train=  0.011  Accuracy_train =  1.0  Best Accuracy_train =  1.0 \n",
            "\n",
            "C=  26  Best C =  26  gamma =  0.051000000000000004  best_gamma=  0.006  Accuracy =  0.6972298088177916  Best Accuracy =  0.8599297698010144 \n",
            "\n",
            "----------------------------------------------------------------\n",
            "C_train=  26  Best C_train =  26  gamma_train =  0.056  best_gamma_train=  0.011  Accuracy_train =  1.0  Best Accuracy_train =  1.0 \n",
            "\n",
            "C=  26  Best C =  26  gamma =  0.056  best_gamma=  0.006  Accuracy =  0.6609442060085837  Best Accuracy =  0.8599297698010144 \n",
            "\n",
            "----------------------------------------------------------------\n",
            "C_train=  26  Best C_train =  26  gamma_train =  0.061  best_gamma_train=  0.011  Accuracy_train =  1.0  Best Accuracy_train =  1.0 \n",
            "\n",
            "C=  26  Best C =  26  gamma =  0.061  best_gamma=  0.006  Accuracy =  0.6246586031993757  Best Accuracy =  0.8599297698010144 \n",
            "\n",
            "----------------------------------------------------------------\n",
            "C_train=  26  Best C_train =  26  gamma_train =  0.066  best_gamma_train=  0.011  Accuracy_train =  1.0  Best Accuracy_train =  1.0 \n",
            "\n",
            "C=  26  Best C =  26  gamma =  0.066  best_gamma=  0.006  Accuracy =  0.5821303160358955  Best Accuracy =  0.8599297698010144 \n",
            "\n",
            "----------------------------------------------------------------\n",
            "C_train=  26  Best C_train =  26  gamma_train =  0.07100000000000001  best_gamma_train=  0.011  Accuracy_train =  1.0  Best Accuracy_train =  1.0 \n",
            "\n",
            "C=  26  Best C =  26  gamma =  0.07100000000000001  best_gamma=  0.006  Accuracy =  0.5357003511509949  Best Accuracy =  0.8599297698010144 \n",
            "\n",
            "----------------------------------------------------------------\n",
            "C_train=  26  Best C_train =  26  gamma_train =  0.076  best_gamma_train=  0.011  Accuracy_train =  1.0  Best Accuracy_train =  1.0 \n",
            "\n",
            "C=  26  Best C =  26  gamma =  0.076  best_gamma=  0.006  Accuracy =  0.48966055403823644  Best Accuracy =  0.8599297698010144 \n",
            "\n",
            "----------------------------------------------------------------\n",
            "C_train=  26  Best C_train =  26  gamma_train =  0.081  best_gamma_train=  0.011  Accuracy_train =  1.0  Best Accuracy_train =  1.0 \n",
            "\n",
            "C=  26  Best C =  26  gamma =  0.081  best_gamma=  0.006  Accuracy =  0.44166991806476785  Best Accuracy =  0.8599297698010144 \n",
            "\n",
            "----------------------------------------------------------------\n",
            "C_train=  26  Best C_train =  26  gamma_train =  0.08600000000000001  best_gamma_train=  0.011  Accuracy_train =  1.0  Best Accuracy_train =  1.0 \n",
            "\n",
            "C=  26  Best C =  26  gamma =  0.08600000000000001  best_gamma=  0.006  Accuracy =  0.3909481076863051  Best Accuracy =  0.8599297698010144 \n",
            "\n",
            "----------------------------------------------------------------\n",
            "C_train=  26  Best C_train =  26  gamma_train =  0.091  best_gamma_train=  0.011  Accuracy_train =  1.0  Best Accuracy_train =  1.0 \n",
            "\n",
            "C=  26  Best C =  26  gamma =  0.091  best_gamma=  0.006  Accuracy =  0.34920015606710886  Best Accuracy =  0.8599297698010144 \n",
            "\n",
            "----------------------------------------------------------------\n",
            "C_train=  26  Best C_train =  26  gamma_train =  0.096  best_gamma_train=  0.011  Accuracy_train =  1.0  Best Accuracy_train =  1.0 \n",
            "\n",
            "C=  26  Best C =  26  gamma =  0.096  best_gamma=  0.006  Accuracy =  0.31954740538431525  Best Accuracy =  0.8599297698010144 \n",
            "\n",
            "----------------------------------------------------------------\n",
            "C_train=  51  Best C_train =  26  gamma_train =  0.001  best_gamma_train=  0.011  Accuracy_train =  0.9264897215716887  Best Accuracy_train =  1.0 \n",
            "\n",
            "C=  51  Best C =  26  gamma =  0.001  best_gamma=  0.006  Accuracy =  0.8501755754974639  Best Accuracy =  0.8599297698010144 \n",
            "\n",
            "----------------------------------------------------------------\n",
            "C_train=  51  Best C_train =  26  gamma_train =  0.006  best_gamma_train=  0.011  Accuracy_train =  0.9997397866250325  Best Accuracy_train =  1.0 \n",
            "\n",
            "C=  51  Best C =  26  gamma =  0.006  best_gamma=  0.006  Accuracy =  0.8575887631681623  Best Accuracy =  0.8599297698010144 \n",
            "\n",
            "----------------------------------------------------------------\n",
            "C_train=  51  Best C_train =  26  gamma_train =  0.011  best_gamma_train=  0.011  Accuracy_train =  1.0  Best Accuracy_train =  1.0 \n",
            "\n",
            "C=  51  Best C =  26  gamma =  0.011  best_gamma=  0.006  Accuracy =  0.8575887631681623  Best Accuracy =  0.8599297698010144 \n",
            "\n",
            "----------------------------------------------------------------\n",
            "C_train=  51  Best C_train =  26  gamma_train =  0.016  best_gamma_train=  0.011  Accuracy_train =  1.0  Best Accuracy_train =  1.0 \n",
            "\n",
            "C=  51  Best C =  26  gamma =  0.016  best_gamma=  0.006  Accuracy =  0.8486149044088959  Best Accuracy =  0.8599297698010144 \n",
            "\n",
            "----------------------------------------------------------------\n",
            "C_train=  51  Best C_train =  26  gamma_train =  0.021  best_gamma_train=  0.011  Accuracy_train =  1.0  Best Accuracy_train =  1.0 \n",
            "\n",
            "C=  51  Best C =  26  gamma =  0.021  best_gamma=  0.006  Accuracy =  0.8353492001560671  Best Accuracy =  0.8599297698010144 \n",
            "\n",
            "----------------------------------------------------------------\n",
            "C_train=  51  Best C_train =  26  gamma_train =  0.026000000000000002  best_gamma_train=  0.011  Accuracy_train =  1.0  Best Accuracy_train =  1.0 \n",
            "\n",
            "C=  51  Best C =  26  gamma =  0.026000000000000002  best_gamma=  0.006  Accuracy =  0.8201326570425282  Best Accuracy =  0.8599297698010144 \n",
            "\n",
            "----------------------------------------------------------------\n",
            "C_train=  51  Best C_train =  26  gamma_train =  0.031  best_gamma_train=  0.011  Accuracy_train =  1.0  Best Accuracy_train =  1.0 \n",
            "\n",
            "C=  51  Best C =  26  gamma =  0.031  best_gamma=  0.006  Accuracy =  0.8033554428404214  Best Accuracy =  0.8599297698010144 \n",
            "\n",
            "----------------------------------------------------------------\n",
            "C_train=  51  Best C_train =  26  gamma_train =  0.036000000000000004  best_gamma_train=  0.011  Accuracy_train =  1.0  Best Accuracy_train =  1.0 \n",
            "\n",
            "C=  51  Best C =  26  gamma =  0.036000000000000004  best_gamma=  0.006  Accuracy =  0.7873585641825985  Best Accuracy =  0.8599297698010144 \n",
            "\n",
            "----------------------------------------------------------------\n",
            "C_train=  51  Best C_train =  26  gamma_train =  0.041  best_gamma_train=  0.011  Accuracy_train =  1.0  Best Accuracy_train =  1.0 \n",
            "\n",
            "C=  51  Best C =  26  gamma =  0.041  best_gamma=  0.006  Accuracy =  0.7530238002341006  Best Accuracy =  0.8599297698010144 \n",
            "\n",
            "----------------------------------------------------------------\n",
            "C_train=  51  Best C_train =  26  gamma_train =  0.046  best_gamma_train=  0.011  Accuracy_train =  1.0  Best Accuracy_train =  1.0 \n",
            "\n",
            "C=  51  Best C =  26  gamma =  0.046  best_gamma=  0.006  Accuracy =  0.7253218884120172  Best Accuracy =  0.8599297698010144 \n",
            "\n",
            "----------------------------------------------------------------\n",
            "C_train=  51  Best C_train =  26  gamma_train =  0.051000000000000004  best_gamma_train=  0.011  Accuracy_train =  1.0  Best Accuracy_train =  1.0 \n",
            "\n",
            "C=  51  Best C =  26  gamma =  0.051000000000000004  best_gamma=  0.006  Accuracy =  0.6972298088177916  Best Accuracy =  0.8599297698010144 \n",
            "\n",
            "----------------------------------------------------------------\n",
            "C_train=  51  Best C_train =  26  gamma_train =  0.056  best_gamma_train=  0.011  Accuracy_train =  1.0  Best Accuracy_train =  1.0 \n",
            "\n",
            "C=  51  Best C =  26  gamma =  0.056  best_gamma=  0.006  Accuracy =  0.6609442060085837  Best Accuracy =  0.8599297698010144 \n",
            "\n",
            "----------------------------------------------------------------\n",
            "C_train=  51  Best C_train =  26  gamma_train =  0.061  best_gamma_train=  0.011  Accuracy_train =  1.0  Best Accuracy_train =  1.0 \n",
            "\n",
            "C=  51  Best C =  26  gamma =  0.061  best_gamma=  0.006  Accuracy =  0.6246586031993757  Best Accuracy =  0.8599297698010144 \n",
            "\n",
            "----------------------------------------------------------------\n",
            "C_train=  51  Best C_train =  26  gamma_train =  0.066  best_gamma_train=  0.011  Accuracy_train =  1.0  Best Accuracy_train =  1.0 \n",
            "\n",
            "C=  51  Best C =  26  gamma =  0.066  best_gamma=  0.006  Accuracy =  0.5821303160358955  Best Accuracy =  0.8599297698010144 \n",
            "\n",
            "----------------------------------------------------------------\n",
            "C_train=  51  Best C_train =  26  gamma_train =  0.07100000000000001  best_gamma_train=  0.011  Accuracy_train =  1.0  Best Accuracy_train =  1.0 \n",
            "\n",
            "C=  51  Best C =  26  gamma =  0.07100000000000001  best_gamma=  0.006  Accuracy =  0.5357003511509949  Best Accuracy =  0.8599297698010144 \n",
            "\n",
            "----------------------------------------------------------------\n",
            "C_train=  51  Best C_train =  26  gamma_train =  0.076  best_gamma_train=  0.011  Accuracy_train =  1.0  Best Accuracy_train =  1.0 \n",
            "\n",
            "C=  51  Best C =  26  gamma =  0.076  best_gamma=  0.006  Accuracy =  0.48966055403823644  Best Accuracy =  0.8599297698010144 \n",
            "\n",
            "----------------------------------------------------------------\n",
            "C_train=  51  Best C_train =  26  gamma_train =  0.081  best_gamma_train=  0.011  Accuracy_train =  1.0  Best Accuracy_train =  1.0 \n",
            "\n",
            "C=  51  Best C =  26  gamma =  0.081  best_gamma=  0.006  Accuracy =  0.44166991806476785  Best Accuracy =  0.8599297698010144 \n",
            "\n",
            "----------------------------------------------------------------\n",
            "C_train=  51  Best C_train =  26  gamma_train =  0.08600000000000001  best_gamma_train=  0.011  Accuracy_train =  1.0  Best Accuracy_train =  1.0 \n",
            "\n",
            "C=  51  Best C =  26  gamma =  0.08600000000000001  best_gamma=  0.006  Accuracy =  0.3909481076863051  Best Accuracy =  0.8599297698010144 \n",
            "\n",
            "----------------------------------------------------------------\n",
            "C_train=  51  Best C_train =  26  gamma_train =  0.091  best_gamma_train=  0.011  Accuracy_train =  1.0  Best Accuracy_train =  1.0 \n",
            "\n",
            "C=  51  Best C =  26  gamma =  0.091  best_gamma=  0.006  Accuracy =  0.34920015606710886  Best Accuracy =  0.8599297698010144 \n",
            "\n",
            "----------------------------------------------------------------\n",
            "C_train=  51  Best C_train =  26  gamma_train =  0.096  best_gamma_train=  0.011  Accuracy_train =  1.0  Best Accuracy_train =  1.0 \n",
            "\n",
            "C=  51  Best C =  26  gamma =  0.096  best_gamma=  0.006  Accuracy =  0.31954740538431525  Best Accuracy =  0.8599297698010144 \n",
            "\n",
            "----------------------------------------------------------------\n",
            "C_train=  76  Best C_train =  26  gamma_train =  0.001  best_gamma_train=  0.011  Accuracy_train =  0.9421025240697372  Best Accuracy_train =  1.0 \n",
            "\n",
            "C=  76  Best C =  26  gamma =  0.001  best_gamma=  0.006  Accuracy =  0.8536870854467421  Best Accuracy =  0.8599297698010144 \n",
            "\n",
            "----------------------------------------------------------------\n",
            "C_train=  76  Best C_train =  26  gamma_train =  0.006  best_gamma_train=  0.011  Accuracy_train =  1.0  Best Accuracy_train =  1.0 \n",
            "\n",
            "C=  76  Best C =  26  gamma =  0.006  best_gamma=  0.006  Accuracy =  0.8575887631681623  Best Accuracy =  0.8599297698010144 \n",
            "\n",
            "----------------------------------------------------------------\n",
            "C_train=  76  Best C_train =  26  gamma_train =  0.011  best_gamma_train=  0.011  Accuracy_train =  1.0  Best Accuracy_train =  1.0 \n",
            "\n",
            "C=  76  Best C =  26  gamma =  0.011  best_gamma=  0.006  Accuracy =  0.8575887631681623  Best Accuracy =  0.8599297698010144 \n",
            "\n",
            "----------------------------------------------------------------\n",
            "C_train=  76  Best C_train =  26  gamma_train =  0.016  best_gamma_train=  0.011  Accuracy_train =  1.0  Best Accuracy_train =  1.0 \n",
            "\n",
            "C=  76  Best C =  26  gamma =  0.016  best_gamma=  0.006  Accuracy =  0.8486149044088959  Best Accuracy =  0.8599297698010144 \n",
            "\n",
            "----------------------------------------------------------------\n",
            "C_train=  76  Best C_train =  26  gamma_train =  0.021  best_gamma_train=  0.011  Accuracy_train =  1.0  Best Accuracy_train =  1.0 \n",
            "\n",
            "C=  76  Best C =  26  gamma =  0.021  best_gamma=  0.006  Accuracy =  0.8353492001560671  Best Accuracy =  0.8599297698010144 \n",
            "\n",
            "----------------------------------------------------------------\n",
            "C_train=  76  Best C_train =  26  gamma_train =  0.026000000000000002  best_gamma_train=  0.011  Accuracy_train =  1.0  Best Accuracy_train =  1.0 \n",
            "\n",
            "C=  76  Best C =  26  gamma =  0.026000000000000002  best_gamma=  0.006  Accuracy =  0.8201326570425282  Best Accuracy =  0.8599297698010144 \n",
            "\n",
            "----------------------------------------------------------------\n",
            "C_train=  76  Best C_train =  26  gamma_train =  0.031  best_gamma_train=  0.011  Accuracy_train =  1.0  Best Accuracy_train =  1.0 \n",
            "\n",
            "C=  76  Best C =  26  gamma =  0.031  best_gamma=  0.006  Accuracy =  0.8033554428404214  Best Accuracy =  0.8599297698010144 \n",
            "\n",
            "----------------------------------------------------------------\n",
            "C_train=  76  Best C_train =  26  gamma_train =  0.036000000000000004  best_gamma_train=  0.011  Accuracy_train =  1.0  Best Accuracy_train =  1.0 \n",
            "\n",
            "C=  76  Best C =  26  gamma =  0.036000000000000004  best_gamma=  0.006  Accuracy =  0.7873585641825985  Best Accuracy =  0.8599297698010144 \n",
            "\n",
            "----------------------------------------------------------------\n",
            "C_train=  76  Best C_train =  26  gamma_train =  0.041  best_gamma_train=  0.011  Accuracy_train =  1.0  Best Accuracy_train =  1.0 \n",
            "\n",
            "C=  76  Best C =  26  gamma =  0.041  best_gamma=  0.006  Accuracy =  0.7530238002341006  Best Accuracy =  0.8599297698010144 \n",
            "\n",
            "----------------------------------------------------------------\n",
            "C_train=  76  Best C_train =  26  gamma_train =  0.046  best_gamma_train=  0.011  Accuracy_train =  1.0  Best Accuracy_train =  1.0 \n",
            "\n",
            "C=  76  Best C =  26  gamma =  0.046  best_gamma=  0.006  Accuracy =  0.7253218884120172  Best Accuracy =  0.8599297698010144 \n",
            "\n",
            "----------------------------------------------------------------\n",
            "C_train=  76  Best C_train =  26  gamma_train =  0.051000000000000004  best_gamma_train=  0.011  Accuracy_train =  1.0  Best Accuracy_train =  1.0 \n",
            "\n",
            "C=  76  Best C =  26  gamma =  0.051000000000000004  best_gamma=  0.006  Accuracy =  0.6972298088177916  Best Accuracy =  0.8599297698010144 \n",
            "\n",
            "----------------------------------------------------------------\n",
            "C_train=  76  Best C_train =  26  gamma_train =  0.056  best_gamma_train=  0.011  Accuracy_train =  1.0  Best Accuracy_train =  1.0 \n",
            "\n",
            "C=  76  Best C =  26  gamma =  0.056  best_gamma=  0.006  Accuracy =  0.6609442060085837  Best Accuracy =  0.8599297698010144 \n",
            "\n",
            "----------------------------------------------------------------\n",
            "C_train=  76  Best C_train =  26  gamma_train =  0.061  best_gamma_train=  0.011  Accuracy_train =  1.0  Best Accuracy_train =  1.0 \n",
            "\n",
            "C=  76  Best C =  26  gamma =  0.061  best_gamma=  0.006  Accuracy =  0.6246586031993757  Best Accuracy =  0.8599297698010144 \n",
            "\n",
            "----------------------------------------------------------------\n",
            "C_train=  76  Best C_train =  26  gamma_train =  0.066  best_gamma_train=  0.011  Accuracy_train =  1.0  Best Accuracy_train =  1.0 \n",
            "\n",
            "C=  76  Best C =  26  gamma =  0.066  best_gamma=  0.006  Accuracy =  0.5821303160358955  Best Accuracy =  0.8599297698010144 \n",
            "\n",
            "----------------------------------------------------------------\n",
            "C_train=  76  Best C_train =  26  gamma_train =  0.07100000000000001  best_gamma_train=  0.011  Accuracy_train =  1.0  Best Accuracy_train =  1.0 \n",
            "\n",
            "C=  76  Best C =  26  gamma =  0.07100000000000001  best_gamma=  0.006  Accuracy =  0.5357003511509949  Best Accuracy =  0.8599297698010144 \n",
            "\n",
            "----------------------------------------------------------------\n",
            "C_train=  76  Best C_train =  26  gamma_train =  0.076  best_gamma_train=  0.011  Accuracy_train =  1.0  Best Accuracy_train =  1.0 \n",
            "\n",
            "C=  76  Best C =  26  gamma =  0.076  best_gamma=  0.006  Accuracy =  0.48966055403823644  Best Accuracy =  0.8599297698010144 \n",
            "\n",
            "----------------------------------------------------------------\n",
            "C_train=  76  Best C_train =  26  gamma_train =  0.081  best_gamma_train=  0.011  Accuracy_train =  1.0  Best Accuracy_train =  1.0 \n",
            "\n",
            "C=  76  Best C =  26  gamma =  0.081  best_gamma=  0.006  Accuracy =  0.44166991806476785  Best Accuracy =  0.8599297698010144 \n",
            "\n",
            "----------------------------------------------------------------\n",
            "C_train=  76  Best C_train =  26  gamma_train =  0.08600000000000001  best_gamma_train=  0.011  Accuracy_train =  1.0  Best Accuracy_train =  1.0 \n",
            "\n",
            "C=  76  Best C =  26  gamma =  0.08600000000000001  best_gamma=  0.006  Accuracy =  0.3909481076863051  Best Accuracy =  0.8599297698010144 \n",
            "\n",
            "----------------------------------------------------------------\n",
            "C_train=  76  Best C_train =  26  gamma_train =  0.091  best_gamma_train=  0.011  Accuracy_train =  1.0  Best Accuracy_train =  1.0 \n",
            "\n",
            "C=  76  Best C =  26  gamma =  0.091  best_gamma=  0.006  Accuracy =  0.34920015606710886  Best Accuracy =  0.8599297698010144 \n",
            "\n",
            "----------------------------------------------------------------\n",
            "C_train=  76  Best C_train =  26  gamma_train =  0.096  best_gamma_train=  0.011  Accuracy_train =  1.0  Best Accuracy_train =  1.0 \n",
            "\n",
            "C=  76  Best C =  26  gamma =  0.096  best_gamma=  0.006  Accuracy =  0.31954740538431525  Best Accuracy =  0.8599297698010144 \n",
            "\n",
            "----------------------------------------------------------------\n",
            "C_train=  101  Best C_train =  26  gamma_train =  0.001  best_gamma_train=  0.011  Accuracy_train =  0.9552432995055946  Best Accuracy_train =  1.0 \n",
            "\n",
            "C=  101  Best C =  26  gamma =  0.001  best_gamma=  0.006  Accuracy =  0.8587592664845883  Best Accuracy =  0.8599297698010144 \n",
            "\n",
            "----------------------------------------------------------------\n",
            "C_train=  101  Best C_train =  26  gamma_train =  0.006  best_gamma_train=  0.011  Accuracy_train =  1.0  Best Accuracy_train =  1.0 \n",
            "\n",
            "C=  101  Best C =  26  gamma =  0.006  best_gamma=  0.006  Accuracy =  0.8575887631681623  Best Accuracy =  0.8599297698010144 \n",
            "\n",
            "----------------------------------------------------------------\n",
            "C_train=  101  Best C_train =  26  gamma_train =  0.011  best_gamma_train=  0.011  Accuracy_train =  1.0  Best Accuracy_train =  1.0 \n",
            "\n",
            "C=  101  Best C =  26  gamma =  0.011  best_gamma=  0.006  Accuracy =  0.8575887631681623  Best Accuracy =  0.8599297698010144 \n",
            "\n",
            "----------------------------------------------------------------\n",
            "C_train=  101  Best C_train =  26  gamma_train =  0.016  best_gamma_train=  0.011  Accuracy_train =  1.0  Best Accuracy_train =  1.0 \n",
            "\n",
            "C=  101  Best C =  26  gamma =  0.016  best_gamma=  0.006  Accuracy =  0.8486149044088959  Best Accuracy =  0.8599297698010144 \n",
            "\n",
            "----------------------------------------------------------------\n",
            "C_train=  101  Best C_train =  26  gamma_train =  0.021  best_gamma_train=  0.011  Accuracy_train =  1.0  Best Accuracy_train =  1.0 \n",
            "\n",
            "C=  101  Best C =  26  gamma =  0.021  best_gamma=  0.006  Accuracy =  0.8353492001560671  Best Accuracy =  0.8599297698010144 \n",
            "\n",
            "----------------------------------------------------------------\n",
            "C_train=  101  Best C_train =  26  gamma_train =  0.026000000000000002  best_gamma_train=  0.011  Accuracy_train =  1.0  Best Accuracy_train =  1.0 \n",
            "\n",
            "C=  101  Best C =  26  gamma =  0.026000000000000002  best_gamma=  0.006  Accuracy =  0.8201326570425282  Best Accuracy =  0.8599297698010144 \n",
            "\n",
            "----------------------------------------------------------------\n",
            "C_train=  101  Best C_train =  26  gamma_train =  0.031  best_gamma_train=  0.011  Accuracy_train =  1.0  Best Accuracy_train =  1.0 \n",
            "\n",
            "C=  101  Best C =  26  gamma =  0.031  best_gamma=  0.006  Accuracy =  0.8033554428404214  Best Accuracy =  0.8599297698010144 \n",
            "\n",
            "----------------------------------------------------------------\n",
            "C_train=  101  Best C_train =  26  gamma_train =  0.036000000000000004  best_gamma_train=  0.011  Accuracy_train =  1.0  Best Accuracy_train =  1.0 \n",
            "\n",
            "C=  101  Best C =  26  gamma =  0.036000000000000004  best_gamma=  0.006  Accuracy =  0.7873585641825985  Best Accuracy =  0.8599297698010144 \n",
            "\n",
            "----------------------------------------------------------------\n",
            "C_train=  101  Best C_train =  26  gamma_train =  0.041  best_gamma_train=  0.011  Accuracy_train =  1.0  Best Accuracy_train =  1.0 \n",
            "\n",
            "C=  101  Best C =  26  gamma =  0.041  best_gamma=  0.006  Accuracy =  0.7530238002341006  Best Accuracy =  0.8599297698010144 \n",
            "\n",
            "----------------------------------------------------------------\n",
            "C_train=  101  Best C_train =  26  gamma_train =  0.046  best_gamma_train=  0.011  Accuracy_train =  1.0  Best Accuracy_train =  1.0 \n",
            "\n",
            "C=  101  Best C =  26  gamma =  0.046  best_gamma=  0.006  Accuracy =  0.7253218884120172  Best Accuracy =  0.8599297698010144 \n",
            "\n",
            "----------------------------------------------------------------\n",
            "C_train=  101  Best C_train =  26  gamma_train =  0.051000000000000004  best_gamma_train=  0.011  Accuracy_train =  1.0  Best Accuracy_train =  1.0 \n",
            "\n",
            "C=  101  Best C =  26  gamma =  0.051000000000000004  best_gamma=  0.006  Accuracy =  0.6972298088177916  Best Accuracy =  0.8599297698010144 \n",
            "\n",
            "----------------------------------------------------------------\n",
            "C_train=  101  Best C_train =  26  gamma_train =  0.056  best_gamma_train=  0.011  Accuracy_train =  1.0  Best Accuracy_train =  1.0 \n",
            "\n",
            "C=  101  Best C =  26  gamma =  0.056  best_gamma=  0.006  Accuracy =  0.6609442060085837  Best Accuracy =  0.8599297698010144 \n",
            "\n",
            "----------------------------------------------------------------\n",
            "C_train=  101  Best C_train =  26  gamma_train =  0.061  best_gamma_train=  0.011  Accuracy_train =  1.0  Best Accuracy_train =  1.0 \n",
            "\n",
            "C=  101  Best C =  26  gamma =  0.061  best_gamma=  0.006  Accuracy =  0.6246586031993757  Best Accuracy =  0.8599297698010144 \n",
            "\n",
            "----------------------------------------------------------------\n",
            "C_train=  101  Best C_train =  26  gamma_train =  0.066  best_gamma_train=  0.011  Accuracy_train =  1.0  Best Accuracy_train =  1.0 \n",
            "\n",
            "C=  101  Best C =  26  gamma =  0.066  best_gamma=  0.006  Accuracy =  0.5821303160358955  Best Accuracy =  0.8599297698010144 \n",
            "\n",
            "----------------------------------------------------------------\n",
            "C_train=  101  Best C_train =  26  gamma_train =  0.07100000000000001  best_gamma_train=  0.011  Accuracy_train =  1.0  Best Accuracy_train =  1.0 \n",
            "\n",
            "C=  101  Best C =  26  gamma =  0.07100000000000001  best_gamma=  0.006  Accuracy =  0.5357003511509949  Best Accuracy =  0.8599297698010144 \n",
            "\n",
            "----------------------------------------------------------------\n",
            "C_train=  101  Best C_train =  26  gamma_train =  0.076  best_gamma_train=  0.011  Accuracy_train =  1.0  Best Accuracy_train =  1.0 \n",
            "\n",
            "C=  101  Best C =  26  gamma =  0.076  best_gamma=  0.006  Accuracy =  0.48966055403823644  Best Accuracy =  0.8599297698010144 \n",
            "\n",
            "----------------------------------------------------------------\n",
            "C_train=  101  Best C_train =  26  gamma_train =  0.081  best_gamma_train=  0.011  Accuracy_train =  1.0  Best Accuracy_train =  1.0 \n",
            "\n",
            "C=  101  Best C =  26  gamma =  0.081  best_gamma=  0.006  Accuracy =  0.44166991806476785  Best Accuracy =  0.8599297698010144 \n",
            "\n",
            "----------------------------------------------------------------\n",
            "C_train=  101  Best C_train =  26  gamma_train =  0.08600000000000001  best_gamma_train=  0.011  Accuracy_train =  1.0  Best Accuracy_train =  1.0 \n",
            "\n",
            "C=  101  Best C =  26  gamma =  0.08600000000000001  best_gamma=  0.006  Accuracy =  0.3909481076863051  Best Accuracy =  0.8599297698010144 \n",
            "\n",
            "----------------------------------------------------------------\n",
            "C_train=  101  Best C_train =  26  gamma_train =  0.091  best_gamma_train=  0.011  Accuracy_train =  1.0  Best Accuracy_train =  1.0 \n",
            "\n",
            "C=  101  Best C =  26  gamma =  0.091  best_gamma=  0.006  Accuracy =  0.34920015606710886  Best Accuracy =  0.8599297698010144 \n",
            "\n",
            "----------------------------------------------------------------\n",
            "C_train=  101  Best C_train =  26  gamma_train =  0.096  best_gamma_train=  0.011  Accuracy_train =  1.0  Best Accuracy_train =  1.0 \n",
            "\n",
            "C=  101  Best C =  26  gamma =  0.096  best_gamma=  0.006  Accuracy =  0.31954740538431525  Best Accuracy =  0.8599297698010144 \n",
            "\n"
          ]
        }
      ],
      "source": [
        "# C_2d_range = range(10)/0.1\n",
        "# gamma_2d_range = [0.01,0.1,0.2,0.3,1]\n",
        "classifiers = []\n",
        "# C_range=10\n",
        "# Gamma_range = 10\n",
        "Train_acc=[]\n",
        "Valid_acc=[]\n",
        "accuracy = -1\n",
        "accuracy_train = -1\n",
        "for C in np.arange(1,102,25):\n",
        "    for gamma in np.arange(0.001,0.1,0.005):\n",
        "        \n",
        "        clf = SVC(C=C, gamma=gamma)\n",
        "        print(\"----------------------------------------------------------------\")\n",
        "        clf.fit(X_train, y_train)\n",
        "        classifiers.append((C, gamma, clf))\n",
        "        y_pred = clf.predict(X_train)\n",
        "        acc_train =metrics.accuracy_score(y_train, y_pred)\n",
        "        Train_acc.append(acc_train)\n",
        "        y_pred = clf.predict(X_test)\n",
        "        acc=metrics.accuracy_score(y_test, y_pred)\n",
        "        Valid_acc.append(acc)\n",
        "        if (acc_train>accuracy_train):\n",
        "            \n",
        "            accuracy_train=acc_train\n",
        "            best_c_train = C\n",
        "            best_g_train=gamma\n",
        "        print(\"C_train= \",C,\" Best C_train = \",best_c_train,\" gamma_train = \",gamma,\" best_gamma_train= \",best_g_train,\" Accuracy_train = \",acc_train,\" Best Accuracy_train = \",accuracy_train,\"\\n\")\n",
        "\n",
        "        if (acc>accuracy):\n",
        "            accuracy=acc\n",
        "            best_c = C\n",
        "            best_g=gamma\n",
        "        \n",
        "        print(\"C= \",C,\" Best C = \",best_c,\" gamma = \",gamma,\" best_gamma= \",best_g,\" Accuracy = \",acc,\" Best Accuracy = \",accuracy,\"\\n\")\n",
        "        \n",
        "        "
      ]
    },
    {
      "cell_type": "code",
      "execution_count": 23,
      "metadata": {
        "colab": {
          "background_save": true
        },
        "id": "3IFI-jPnvXiD"
      },
      "outputs": [],
      "source": [
        "clf = SVC(C=51,gamma=0.006,decision_function_shape='ovo')"
      ]
    },
    {
      "cell_type": "code",
      "execution_count": 24,
      "metadata": {
        "colab": {
          "background_save": true
        },
        "id": "fa8xAxFTvcmI",
        "outputId": "3ed88444-c474-47ca-9549-f41dcbe71e56"
      },
      "outputs": [
        {
          "data": {
            "text/html": [
              "<style>#sk-container-id-1 {color: black;background-color: white;}#sk-container-id-1 pre{padding: 0;}#sk-container-id-1 div.sk-toggleable {background-color: white;}#sk-container-id-1 label.sk-toggleable__label {cursor: pointer;display: block;width: 100%;margin-bottom: 0;padding: 0.3em;box-sizing: border-box;text-align: center;}#sk-container-id-1 label.sk-toggleable__label-arrow:before {content: \"▸\";float: left;margin-right: 0.25em;color: #696969;}#sk-container-id-1 label.sk-toggleable__label-arrow:hover:before {color: black;}#sk-container-id-1 div.sk-estimator:hover label.sk-toggleable__label-arrow:before {color: black;}#sk-container-id-1 div.sk-toggleable__content {max-height: 0;max-width: 0;overflow: hidden;text-align: left;background-color: #f0f8ff;}#sk-container-id-1 div.sk-toggleable__content pre {margin: 0.2em;color: black;border-radius: 0.25em;background-color: #f0f8ff;}#sk-container-id-1 input.sk-toggleable__control:checked~div.sk-toggleable__content {max-height: 200px;max-width: 100%;overflow: auto;}#sk-container-id-1 input.sk-toggleable__control:checked~label.sk-toggleable__label-arrow:before {content: \"▾\";}#sk-container-id-1 div.sk-estimator input.sk-toggleable__control:checked~label.sk-toggleable__label {background-color: #d4ebff;}#sk-container-id-1 div.sk-label input.sk-toggleable__control:checked~label.sk-toggleable__label {background-color: #d4ebff;}#sk-container-id-1 input.sk-hidden--visually {border: 0;clip: rect(1px 1px 1px 1px);clip: rect(1px, 1px, 1px, 1px);height: 1px;margin: -1px;overflow: hidden;padding: 0;position: absolute;width: 1px;}#sk-container-id-1 div.sk-estimator {font-family: monospace;background-color: #f0f8ff;border: 1px dotted black;border-radius: 0.25em;box-sizing: border-box;margin-bottom: 0.5em;}#sk-container-id-1 div.sk-estimator:hover {background-color: #d4ebff;}#sk-container-id-1 div.sk-parallel-item::after {content: \"\";width: 100%;border-bottom: 1px solid gray;flex-grow: 1;}#sk-container-id-1 div.sk-label:hover label.sk-toggleable__label {background-color: #d4ebff;}#sk-container-id-1 div.sk-serial::before {content: \"\";position: absolute;border-left: 1px solid gray;box-sizing: border-box;top: 0;bottom: 0;left: 50%;z-index: 0;}#sk-container-id-1 div.sk-serial {display: flex;flex-direction: column;align-items: center;background-color: white;padding-right: 0.2em;padding-left: 0.2em;position: relative;}#sk-container-id-1 div.sk-item {position: relative;z-index: 1;}#sk-container-id-1 div.sk-parallel {display: flex;align-items: stretch;justify-content: center;background-color: white;position: relative;}#sk-container-id-1 div.sk-item::before, #sk-container-id-1 div.sk-parallel-item::before {content: \"\";position: absolute;border-left: 1px solid gray;box-sizing: border-box;top: 0;bottom: 0;left: 50%;z-index: -1;}#sk-container-id-1 div.sk-parallel-item {display: flex;flex-direction: column;z-index: 1;position: relative;background-color: white;}#sk-container-id-1 div.sk-parallel-item:first-child::after {align-self: flex-end;width: 50%;}#sk-container-id-1 div.sk-parallel-item:last-child::after {align-self: flex-start;width: 50%;}#sk-container-id-1 div.sk-parallel-item:only-child::after {width: 0;}#sk-container-id-1 div.sk-dashed-wrapped {border: 1px dashed gray;margin: 0 0.4em 0.5em 0.4em;box-sizing: border-box;padding-bottom: 0.4em;background-color: white;}#sk-container-id-1 div.sk-label label {font-family: monospace;font-weight: bold;display: inline-block;line-height: 1.2em;}#sk-container-id-1 div.sk-label-container {text-align: center;}#sk-container-id-1 div.sk-container {/* jupyter's `normalize.less` sets `[hidden] { display: none; }` but bootstrap.min.css set `[hidden] { display: none !important; }` so we also need the `!important` here to be able to override the default hidden behavior on the sphinx rendered scikit-learn.org. See: https://github.com/scikit-learn/scikit-learn/issues/21755 */display: inline-block !important;position: relative;}#sk-container-id-1 div.sk-text-repr-fallback {display: none;}</style><div id=\"sk-container-id-1\" class=\"sk-top-container\"><div class=\"sk-text-repr-fallback\"><pre>SVC(C=51, decision_function_shape=&#x27;ovo&#x27;, gamma=0.006)</pre><b>In a Jupyter environment, please rerun this cell to show the HTML representation or trust the notebook. <br />On GitHub, the HTML representation is unable to render, please try loading this page with nbviewer.org.</b></div><div class=\"sk-container\" hidden><div class=\"sk-item\"><div class=\"sk-estimator sk-toggleable\"><input class=\"sk-toggleable__control sk-hidden--visually\" id=\"sk-estimator-id-1\" type=\"checkbox\" checked><label for=\"sk-estimator-id-1\" class=\"sk-toggleable__label sk-toggleable__label-arrow\">SVC</label><div class=\"sk-toggleable__content\"><pre>SVC(C=51, decision_function_shape=&#x27;ovo&#x27;, gamma=0.006)</pre></div></div></div></div></div>"
            ],
            "text/plain": [
              "SVC(C=51, decision_function_shape='ovo', gamma=0.006)"
            ]
          },
          "execution_count": 24,
          "metadata": {},
          "output_type": "execute_result"
        }
      ],
      "source": [
        "clf.fit(X_train, y_train)"
      ]
    },
    {
      "cell_type": "code",
      "execution_count": 25,
      "metadata": {
        "colab": {
          "background_save": true
        },
        "id": "P_HCmMKmvh9P"
      },
      "outputs": [],
      "source": [
        "y_pred = clf.predict(X_test)"
      ]
    },
    {
      "cell_type": "code",
      "execution_count": 26,
      "metadata": {
        "colab": {
          "background_save": true
        },
        "id": "Hja3kiwpvkto",
        "outputId": "b69129db-e099-42c6-9999-a5bcc80040c1"
      },
      "outputs": [
        {
          "name": "stdout",
          "output_type": "stream",
          "text": [
            "Accuracy : 85.75887631681624\n"
          ]
        }
      ],
      "source": [
        "from sklearn import metrics\n",
        "print(\"Accuracy :\",metrics.accuracy_score(y_pred, y_test)*100)"
      ]
    },
    {
      "cell_type": "code",
      "execution_count": 27,
      "metadata": {
        "colab": {
          "background_save": true
        },
        "id": "kl0RVlDqvlQ9",
        "outputId": "d6fe3e8f-516a-465e-b3e1-2d297196c9c3"
      },
      "outputs": [
        {
          "name": "stdout",
          "output_type": "stream",
          "text": [
            "Cohen Kappa Score : 83.74006278750521\n"
          ]
        }
      ],
      "source": [
        "from sklearn.metrics import cohen_kappa_score\n",
        "print(\"Cohen Kappa Score :\",cohen_kappa_score(y_pred, y_test)*100)"
      ]
    },
    {
      "cell_type": "code",
      "execution_count": 28,
      "metadata": {
        "colab": {
          "background_save": true
        },
        "id": "fWgNuCzBvtCH",
        "outputId": "d749847b-111f-4528-c96b-51112541f05d"
      },
      "outputs": [
        {
          "name": "stdout",
          "output_type": "stream",
          "text": [
            "              precision    recall  f1-score   support\n",
            "\n",
            "           1       1.00      0.73      0.84        11\n",
            "           2       0.81      0.86      0.83       357\n",
            "           3       0.78      0.78      0.78       208\n",
            "           4       0.70      0.64      0.67        59\n",
            "           5       0.93      0.94      0.94       121\n",
            "           6       0.99      0.98      0.99       183\n",
            "           7       1.00      0.71      0.83         7\n",
            "           8       0.97      1.00      0.98       120\n",
            "           9       1.00      1.00      1.00         5\n",
            "          10       0.79      0.76      0.77       243\n",
            "          11       0.81      0.82      0.82       614\n",
            "          12       0.87      0.82      0.84       148\n",
            "          13       1.00      1.00      1.00        51\n",
            "          14       0.95      0.95      0.95       316\n",
            "          15       0.82      0.77      0.79        97\n",
            "          16       1.00      1.00      1.00        23\n",
            "\n",
            "    accuracy                           0.86      2563\n",
            "   macro avg       0.90      0.86      0.88      2563\n",
            "weighted avg       0.86      0.86      0.86      2563\n",
            "\n"
          ]
        }
      ],
      "source": [
        "from sklearn.metrics import confusion_matrix,classification_report\n",
        "mat = confusion_matrix(y_pred, y_test)\n",
        "pd.DataFrame(mat)\n",
        "# print(confusion_matrix(y_test, y_pred ))\n",
        "print(classification_report(y_test, y_pred ))"
      ]
    },
    {
      "cell_type": "code",
      "execution_count": 29,
      "metadata": {
        "colab": {
          "background_save": true
        },
        "id": "iXQmz2gYvv5H",
        "outputId": "5183841a-6b62-4d20-8b1c-e81c74e9a02c"
      },
      "outputs": [
        {
          "name": "stdout",
          "output_type": "stream",
          "text": [
            "    0    1    2   3    4    5   6    7   8    9    10   11  12   13  14  15\n",
            "0    8    0    0   0    0    0   0    0   0    0    0    0   0    0   0   0\n",
            "1    0  306   11   6    2    0   0    0   0   14   35    2   0    0   1   0\n",
            "2    0    4  163  11    0    0   0    0   0    2   22    7   0    0   0   0\n",
            "3    0    0   10  38    3    0   0    0   0    0    0    3   0    0   0   0\n",
            "4    0    0    0   0  114    1   0    0   0    1    2    0   0    3   1   0\n",
            "5    0    0    0   0    0  180   0    0   0    1    0    0   0    0   1   0\n",
            "6    0    0    0   0    0    0   5    0   0    0    0    0   0    0   0   0\n",
            "7    2    0    0   0    0    0   2  120   0    0    0    0   0    0   0   0\n",
            "8    0    0    0   0    0    0   0    0   5    0    0    0   0    0   0   0\n",
            "9    0    8    1   0    0    0   0    0   0  184   38    2   0    0   1   0\n",
            "10   1   39   20   3    0    0   0    0   0   39  506   13   0    0   1   0\n",
            "11   0    0    3   1    2    0   0    0   0    1   11  121   0    0   0   0\n",
            "12   0    0    0   0    0    0   0    0   0    0    0    0  51    0   0   0\n",
            "13   0    0    0   0    0    0   0    0   0    0    0    0   0  299  17   0\n",
            "14   0    0    0   0    0    2   0    0   0    1    0    0   0   14  75   0\n",
            "15   0    0    0   0    0    0   0    0   0    0    0    0   0    0   0  23\n"
          ]
        }
      ],
      "source": [
        "print(pd.DataFrame(mat))"
      ]
    }
  ],
  "metadata": {
    "colab": {
      "provenance": []
    },
    "kernelspec": {
      "display_name": "Python 3",
      "name": "python3"
    },
    "language_info": {
      "codemirror_mode": {
        "name": "ipython",
        "version": 3
      },
      "file_extension": ".py",
      "mimetype": "text/x-python",
      "name": "python",
      "nbconvert_exporter": "python",
      "pygments_lexer": "ipython3",
      "version": "3.10.6"
    }
  },
  "nbformat": 4,
  "nbformat_minor": 0
}
